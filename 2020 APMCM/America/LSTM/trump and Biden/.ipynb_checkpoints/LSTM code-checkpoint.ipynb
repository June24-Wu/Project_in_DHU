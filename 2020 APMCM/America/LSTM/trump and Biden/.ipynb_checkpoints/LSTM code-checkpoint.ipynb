{
 "cells": [
  {
   "cell_type": "markdown",
   "metadata": {
    "ExecuteTime": {
     "end_time": "2020-11-28T13:39:08.599611Z",
     "start_time": "2020-11-28T13:39:08.129796Z"
    }
   },
   "source": [
    "##### import pandas as pd \n",
    "import numpy as np\n",
    "data = pd.read_csv('model data final.csv')\n",
    "data"
   ]
  },
  {
   "cell_type": "code",
   "execution_count": 1,
   "metadata": {
    "ExecuteTime": {
     "end_time": "2020-11-29T03:18:58.756614Z",
     "start_time": "2020-11-29T03:18:58.352249Z"
    }
   },
   "outputs": [
    {
     "data": {
      "text/html": [
       "<div>\n",
       "<style scoped>\n",
       "    .dataframe tbody tr th:only-of-type {\n",
       "        vertical-align: middle;\n",
       "    }\n",
       "\n",
       "    .dataframe tbody tr th {\n",
       "        vertical-align: top;\n",
       "    }\n",
       "\n",
       "    .dataframe thead th {\n",
       "        text-align: right;\n",
       "    }\n",
       "</style>\n",
       "<table border=\"1\" class=\"dataframe\">\n",
       "  <thead>\n",
       "    <tr style=\"text-align: right;\">\n",
       "      <th></th>\n",
       "      <th>C1</th>\n",
       "      <th>I</th>\n",
       "      <th>G</th>\n",
       "      <th>NX</th>\n",
       "      <th>new_cases</th>\n",
       "      <th>new_deaths</th>\n",
       "      <th>GDP</th>\n",
       "    </tr>\n",
       "    <tr>\n",
       "      <th>Day</th>\n",
       "      <th></th>\n",
       "      <th></th>\n",
       "      <th></th>\n",
       "      <th></th>\n",
       "      <th></th>\n",
       "      <th></th>\n",
       "      <th></th>\n",
       "    </tr>\n",
       "  </thead>\n",
       "  <tbody>\n",
       "    <tr>\n",
       "      <th>2015-01-02</th>\n",
       "      <td>-15.776760</td>\n",
       "      <td>7.627000e+07</td>\n",
       "      <td>1214.892</td>\n",
       "      <td>-435.900000</td>\n",
       "      <td>0.0</td>\n",
       "      <td>0.000000</td>\n",
       "      <td>2.610000e+11</td>\n",
       "    </tr>\n",
       "    <tr>\n",
       "      <th>2015-01-05</th>\n",
       "      <td>-16.496330</td>\n",
       "      <td>1.161600e+08</td>\n",
       "      <td>1214.892</td>\n",
       "      <td>-435.900000</td>\n",
       "      <td>0.0</td>\n",
       "      <td>0.000000</td>\n",
       "      <td>2.680000e+11</td>\n",
       "    </tr>\n",
       "    <tr>\n",
       "      <th>2015-01-06</th>\n",
       "      <td>-16.548551</td>\n",
       "      <td>1.018700e+08</td>\n",
       "      <td>1214.892</td>\n",
       "      <td>-435.900000</td>\n",
       "      <td>0.0</td>\n",
       "      <td>0.000000</td>\n",
       "      <td>2.650000e+11</td>\n",
       "    </tr>\n",
       "    <tr>\n",
       "      <th>2015-01-07</th>\n",
       "      <td>-13.489590</td>\n",
       "      <td>9.103000e+07</td>\n",
       "      <td>1214.892</td>\n",
       "      <td>-435.900000</td>\n",
       "      <td>0.0</td>\n",
       "      <td>0.000000</td>\n",
       "      <td>2.680000e+11</td>\n",
       "    </tr>\n",
       "    <tr>\n",
       "      <th>2015-01-08</th>\n",
       "      <td>-10.824681</td>\n",
       "      <td>1.148900e+08</td>\n",
       "      <td>1214.892</td>\n",
       "      <td>-435.900000</td>\n",
       "      <td>0.0</td>\n",
       "      <td>0.000000</td>\n",
       "      <td>2.670000e+11</td>\n",
       "    </tr>\n",
       "    <tr>\n",
       "      <th>...</th>\n",
       "      <td>...</td>\n",
       "      <td>...</td>\n",
       "      <td>...</td>\n",
       "      <td>...</td>\n",
       "      <td>...</td>\n",
       "      <td>...</td>\n",
       "      <td>...</td>\n",
       "    </tr>\n",
       "    <tr>\n",
       "      <th>2021-11-24</th>\n",
       "      <td>18.122686</td>\n",
       "      <td>3.073869e+08</td>\n",
       "      <td>1570.000</td>\n",
       "      <td>-471.352972</td>\n",
       "      <td>0.0</td>\n",
       "      <td>0.000634</td>\n",
       "      <td>3.048004e+11</td>\n",
       "    </tr>\n",
       "    <tr>\n",
       "      <th>2021-11-25</th>\n",
       "      <td>23.835464</td>\n",
       "      <td>3.068881e+08</td>\n",
       "      <td>1570.000</td>\n",
       "      <td>-400.143912</td>\n",
       "      <td>0.0</td>\n",
       "      <td>0.000608</td>\n",
       "      <td>3.052938e+11</td>\n",
       "    </tr>\n",
       "    <tr>\n",
       "      <th>2021-11-26</th>\n",
       "      <td>23.845289</td>\n",
       "      <td>3.005574e+08</td>\n",
       "      <td>1570.000</td>\n",
       "      <td>-400.498744</td>\n",
       "      <td>0.0</td>\n",
       "      <td>0.000585</td>\n",
       "      <td>3.053126e+11</td>\n",
       "    </tr>\n",
       "    <tr>\n",
       "      <th>2021-11-27</th>\n",
       "      <td>18.251881</td>\n",
       "      <td>3.040800e+08</td>\n",
       "      <td>1570.000</td>\n",
       "      <td>-490.879359</td>\n",
       "      <td>0.0</td>\n",
       "      <td>0.000563</td>\n",
       "      <td>3.052349e+11</td>\n",
       "    </tr>\n",
       "    <tr>\n",
       "      <th>2021-11-28</th>\n",
       "      <td>20.185431</td>\n",
       "      <td>3.071876e+08</td>\n",
       "      <td>1570.000</td>\n",
       "      <td>-400.239014</td>\n",
       "      <td>0.0</td>\n",
       "      <td>0.000000</td>\n",
       "      <td>3.040786e+11</td>\n",
       "    </tr>\n",
       "  </tbody>\n",
       "</table>\n",
       "<p>1855 rows × 7 columns</p>\n",
       "</div>"
      ],
      "text/plain": [
       "                   C1             I         G          NX  new_cases  \\\n",
       "Day                                                                    \n",
       "2015-01-02 -15.776760  7.627000e+07  1214.892 -435.900000        0.0   \n",
       "2015-01-05 -16.496330  1.161600e+08  1214.892 -435.900000        0.0   \n",
       "2015-01-06 -16.548551  1.018700e+08  1214.892 -435.900000        0.0   \n",
       "2015-01-07 -13.489590  9.103000e+07  1214.892 -435.900000        0.0   \n",
       "2015-01-08 -10.824681  1.148900e+08  1214.892 -435.900000        0.0   \n",
       "...               ...           ...       ...         ...        ...   \n",
       "2021-11-24  18.122686  3.073869e+08  1570.000 -471.352972        0.0   \n",
       "2021-11-25  23.835464  3.068881e+08  1570.000 -400.143912        0.0   \n",
       "2021-11-26  23.845289  3.005574e+08  1570.000 -400.498744        0.0   \n",
       "2021-11-27  18.251881  3.040800e+08  1570.000 -490.879359        0.0   \n",
       "2021-11-28  20.185431  3.071876e+08  1570.000 -400.239014        0.0   \n",
       "\n",
       "            new_deaths           GDP  \n",
       "Day                                   \n",
       "2015-01-02    0.000000  2.610000e+11  \n",
       "2015-01-05    0.000000  2.680000e+11  \n",
       "2015-01-06    0.000000  2.650000e+11  \n",
       "2015-01-07    0.000000  2.680000e+11  \n",
       "2015-01-08    0.000000  2.670000e+11  \n",
       "...                ...           ...  \n",
       "2021-11-24    0.000634  3.048004e+11  \n",
       "2021-11-25    0.000608  3.052938e+11  \n",
       "2021-11-26    0.000585  3.053126e+11  \n",
       "2021-11-27    0.000563  3.052349e+11  \n",
       "2021-11-28    0.000000  3.040786e+11  \n",
       "\n",
       "[1855 rows x 7 columns]"
      ]
     },
     "execution_count": 1,
     "metadata": {},
     "output_type": "execute_result"
    }
   ],
   "source": [
    "import pandas as pd\n",
    "import numpy as np \n",
    "data = pd.read_csv('LSTM_for_biden_result.csv')\n",
    "data.set_index('Day',inplace=True)\n",
    "stock = data\n",
    "# stock.drop(['Year','Month'],axis=1,inplace=True)\n",
    "stock"
   ]
  },
  {
   "cell_type": "code",
   "execution_count": 2,
   "metadata": {
    "ExecuteTime": {
     "end_time": "2020-11-29T03:18:59.561666Z",
     "start_time": "2020-11-29T03:18:58.759622Z"
    }
   },
   "outputs": [
    {
     "name": "stderr",
     "output_type": "stream",
     "text": [
      "C:\\Users\\june.wu\\Anaconda3\\lib\\site-packages\\pandas\\core\\frame.py:4317: SettingWithCopyWarning: \n",
      "A value is trying to be set on a copy of a slice from a DataFrame\n",
      "\n",
      "See the caveats in the documentation: https://pandas.pydata.org/pandas-docs/stable/user_guide/indexing.html#returning-a-view-versus-a-copy\n",
      "  return super().fillna(\n"
     ]
    },
    {
     "data": {
      "text/html": [
       "<div>\n",
       "<style scoped>\n",
       "    .dataframe tbody tr th:only-of-type {\n",
       "        vertical-align: middle;\n",
       "    }\n",
       "\n",
       "    .dataframe tbody tr th {\n",
       "        vertical-align: top;\n",
       "    }\n",
       "\n",
       "    .dataframe thead th {\n",
       "        text-align: right;\n",
       "    }\n",
       "</style>\n",
       "<table border=\"1\" class=\"dataframe\">\n",
       "  <thead>\n",
       "    <tr style=\"text-align: right;\">\n",
       "      <th></th>\n",
       "      <th>0</th>\n",
       "    </tr>\n",
       "    <tr>\n",
       "      <th>Day</th>\n",
       "      <th></th>\n",
       "    </tr>\n",
       "  </thead>\n",
       "  <tbody>\n",
       "    <tr>\n",
       "      <th>2015-01-02</th>\n",
       "      <td>2.844947e-16</td>\n",
       "    </tr>\n",
       "    <tr>\n",
       "      <th>2015-01-05</th>\n",
       "      <td>0.000000e+00</td>\n",
       "    </tr>\n",
       "    <tr>\n",
       "      <th>2015-01-06</th>\n",
       "      <td>3.469447e-18</td>\n",
       "    </tr>\n",
       "    <tr>\n",
       "      <th>2015-01-07</th>\n",
       "      <td>3.469447e-18</td>\n",
       "    </tr>\n",
       "    <tr>\n",
       "      <th>2015-01-08</th>\n",
       "      <td>3.469447e-18</td>\n",
       "    </tr>\n",
       "    <tr>\n",
       "      <th>...</th>\n",
       "      <td>...</td>\n",
       "    </tr>\n",
       "    <tr>\n",
       "      <th>2021-11-24</th>\n",
       "      <td>3.036225e-11</td>\n",
       "    </tr>\n",
       "    <tr>\n",
       "      <th>2021-11-25</th>\n",
       "      <td>2.914613e-11</td>\n",
       "    </tr>\n",
       "    <tr>\n",
       "      <th>2021-11-26</th>\n",
       "      <td>2.801481e-11</td>\n",
       "    </tr>\n",
       "    <tr>\n",
       "      <th>2021-11-27</th>\n",
       "      <td>2.696817e-11</td>\n",
       "    </tr>\n",
       "    <tr>\n",
       "      <th>2021-11-28</th>\n",
       "      <td>3.469447e-18</td>\n",
       "    </tr>\n",
       "  </tbody>\n",
       "</table>\n",
       "<p>1855 rows × 1 columns</p>\n",
       "</div>"
      ],
      "text/plain": [
       "                       0\n",
       "Day                     \n",
       "2015-01-02  2.844947e-16\n",
       "2015-01-05  0.000000e+00\n",
       "2015-01-06  3.469447e-18\n",
       "2015-01-07  3.469447e-18\n",
       "2015-01-08  3.469447e-18\n",
       "...                  ...\n",
       "2021-11-24  3.036225e-11\n",
       "2021-11-25  2.914613e-11\n",
       "2021-11-26  2.801481e-11\n",
       "2021-11-27  2.696817e-11\n",
       "2021-11-28  3.469447e-18\n",
       "\n",
       "[1855 rows x 1 columns]"
      ]
     },
     "execution_count": 2,
     "metadata": {},
     "output_type": "execute_result"
    }
   ],
   "source": [
    "covid = data[['new_cases','new_deaths']]\n",
    "covid\n",
    "covid.fillna(0,inplace=True)\n",
    "\n",
    "from sklearn.decomposition import PCA  # 主成分分析\n",
    "\n",
    "# pca \n",
    "pca = PCA(n_components=0.9)  # 一般 n_components 为0.9-0.95 左右\n",
    "pca_data = pca.fit_transform(covid)\n",
    "pca_data = pd.DataFrame(pca_data)\n",
    "pca_data.index = data.index \n",
    "pca_data\n",
    "\n",
    "\n",
    "from sklearn.preprocessing import MinMaxScaler\n",
    "scaler = MinMaxScaler(feature_range=(0, 0.8))  \n",
    "scaled_data = scaler.fit_transform(pca_data)\n",
    "scaled_data = pd.DataFrame(scaled_data)\n",
    "scaled_data.index = data.index\n",
    "covid_data = scaled_data\n",
    "covid_data"
   ]
  },
  {
   "cell_type": "code",
   "execution_count": 3,
   "metadata": {
    "ExecuteTime": {
     "end_time": "2020-11-29T03:18:59.592748Z",
     "start_time": "2020-11-29T03:18:59.571693Z"
    }
   },
   "outputs": [
    {
     "data": {
      "text/html": [
       "<div>\n",
       "<style scoped>\n",
       "    .dataframe tbody tr th:only-of-type {\n",
       "        vertical-align: middle;\n",
       "    }\n",
       "\n",
       "    .dataframe tbody tr th {\n",
       "        vertical-align: top;\n",
       "    }\n",
       "\n",
       "    .dataframe thead th {\n",
       "        text-align: right;\n",
       "    }\n",
       "</style>\n",
       "<table border=\"1\" class=\"dataframe\">\n",
       "  <thead>\n",
       "    <tr style=\"text-align: right;\">\n",
       "      <th></th>\n",
       "      <th>C1</th>\n",
       "      <th>I</th>\n",
       "      <th>G</th>\n",
       "      <th>NX</th>\n",
       "      <th>new_cases</th>\n",
       "      <th>new_deaths</th>\n",
       "      <th>GDP</th>\n",
       "    </tr>\n",
       "  </thead>\n",
       "  <tbody>\n",
       "    <tr>\n",
       "      <th>C1</th>\n",
       "      <td>1.000000</td>\n",
       "      <td>0.469091</td>\n",
       "      <td>0.934266</td>\n",
       "      <td>-0.146900</td>\n",
       "      <td>0.372891</td>\n",
       "      <td>0.377887</td>\n",
       "      <td>0.432493</td>\n",
       "    </tr>\n",
       "    <tr>\n",
       "      <th>I</th>\n",
       "      <td>0.469091</td>\n",
       "      <td>1.000000</td>\n",
       "      <td>0.512542</td>\n",
       "      <td>-0.300459</td>\n",
       "      <td>0.136578</td>\n",
       "      <td>0.258129</td>\n",
       "      <td>0.176891</td>\n",
       "    </tr>\n",
       "    <tr>\n",
       "      <th>G</th>\n",
       "      <td>0.934266</td>\n",
       "      <td>0.512542</td>\n",
       "      <td>1.000000</td>\n",
       "      <td>-0.160957</td>\n",
       "      <td>0.278381</td>\n",
       "      <td>0.333920</td>\n",
       "      <td>0.459714</td>\n",
       "    </tr>\n",
       "    <tr>\n",
       "      <th>NX</th>\n",
       "      <td>-0.146900</td>\n",
       "      <td>-0.300459</td>\n",
       "      <td>-0.160957</td>\n",
       "      <td>1.000000</td>\n",
       "      <td>-0.224361</td>\n",
       "      <td>-0.350067</td>\n",
       "      <td>0.102744</td>\n",
       "    </tr>\n",
       "    <tr>\n",
       "      <th>new_cases</th>\n",
       "      <td>0.372891</td>\n",
       "      <td>0.136578</td>\n",
       "      <td>0.278381</td>\n",
       "      <td>-0.224361</td>\n",
       "      <td>1.000000</td>\n",
       "      <td>0.679236</td>\n",
       "      <td>-0.286904</td>\n",
       "    </tr>\n",
       "    <tr>\n",
       "      <th>new_deaths</th>\n",
       "      <td>0.377887</td>\n",
       "      <td>0.258129</td>\n",
       "      <td>0.333920</td>\n",
       "      <td>-0.350067</td>\n",
       "      <td>0.679236</td>\n",
       "      <td>1.000000</td>\n",
       "      <td>-0.459941</td>\n",
       "    </tr>\n",
       "    <tr>\n",
       "      <th>GDP</th>\n",
       "      <td>0.432493</td>\n",
       "      <td>0.176891</td>\n",
       "      <td>0.459714</td>\n",
       "      <td>0.102744</td>\n",
       "      <td>-0.286904</td>\n",
       "      <td>-0.459941</td>\n",
       "      <td>1.000000</td>\n",
       "    </tr>\n",
       "  </tbody>\n",
       "</table>\n",
       "</div>"
      ],
      "text/plain": [
       "                  C1         I         G        NX  new_cases  new_deaths  \\\n",
       "C1          1.000000  0.469091  0.934266 -0.146900   0.372891    0.377887   \n",
       "I           0.469091  1.000000  0.512542 -0.300459   0.136578    0.258129   \n",
       "G           0.934266  0.512542  1.000000 -0.160957   0.278381    0.333920   \n",
       "NX         -0.146900 -0.300459 -0.160957  1.000000  -0.224361   -0.350067   \n",
       "new_cases   0.372891  0.136578  0.278381 -0.224361   1.000000    0.679236   \n",
       "new_deaths  0.377887  0.258129  0.333920 -0.350067   0.679236    1.000000   \n",
       "GDP         0.432493  0.176891  0.459714  0.102744  -0.286904   -0.459941   \n",
       "\n",
       "                 GDP  \n",
       "C1          0.432493  \n",
       "I           0.176891  \n",
       "G           0.459714  \n",
       "NX          0.102744  \n",
       "new_cases  -0.286904  \n",
       "new_deaths -0.459941  \n",
       "GDP         1.000000  "
      ]
     },
     "execution_count": 3,
     "metadata": {},
     "output_type": "execute_result"
    }
   ],
   "source": [
    "# 查看皮尔森相关系数\n",
    "corr = stock.corr()\n",
    "corr"
   ]
  },
  {
   "cell_type": "code",
   "execution_count": 4,
   "metadata": {
    "ExecuteTime": {
     "end_time": "2020-11-29T03:19:00.344848Z",
     "start_time": "2020-11-29T03:18:59.597782Z"
    }
   },
   "outputs": [
    {
     "ename": "KeyError",
     "evalue": "'GDP_per_day'",
     "output_type": "error",
     "traceback": [
      "\u001b[1;31m---------------------------------------------------------------------------\u001b[0m",
      "\u001b[1;31mKeyError\u001b[0m                                  Traceback (most recent call last)",
      "\u001b[1;32m~\\Anaconda3\\lib\\site-packages\\pandas\\core\\indexes\\base.py\u001b[0m in \u001b[0;36mget_loc\u001b[1;34m(self, key, method, tolerance)\u001b[0m\n\u001b[0;32m   2894\u001b[0m             \u001b[1;32mtry\u001b[0m\u001b[1;33m:\u001b[0m\u001b[1;33m\u001b[0m\u001b[1;33m\u001b[0m\u001b[0m\n\u001b[1;32m-> 2895\u001b[1;33m                 \u001b[1;32mreturn\u001b[0m \u001b[0mself\u001b[0m\u001b[1;33m.\u001b[0m\u001b[0m_engine\u001b[0m\u001b[1;33m.\u001b[0m\u001b[0mget_loc\u001b[0m\u001b[1;33m(\u001b[0m\u001b[0mcasted_key\u001b[0m\u001b[1;33m)\u001b[0m\u001b[1;33m\u001b[0m\u001b[1;33m\u001b[0m\u001b[0m\n\u001b[0m\u001b[0;32m   2896\u001b[0m             \u001b[1;32mexcept\u001b[0m \u001b[0mKeyError\u001b[0m \u001b[1;32mas\u001b[0m \u001b[0merr\u001b[0m\u001b[1;33m:\u001b[0m\u001b[1;33m\u001b[0m\u001b[1;33m\u001b[0m\u001b[0m\n",
      "\u001b[1;32mpandas\\_libs\\index.pyx\u001b[0m in \u001b[0;36mpandas._libs.index.IndexEngine.get_loc\u001b[1;34m()\u001b[0m\n",
      "\u001b[1;32mpandas\\_libs\\index.pyx\u001b[0m in \u001b[0;36mpandas._libs.index.IndexEngine.get_loc\u001b[1;34m()\u001b[0m\n",
      "\u001b[1;32mpandas\\_libs\\hashtable_class_helper.pxi\u001b[0m in \u001b[0;36mpandas._libs.hashtable.PyObjectHashTable.get_item\u001b[1;34m()\u001b[0m\n",
      "\u001b[1;32mpandas\\_libs\\hashtable_class_helper.pxi\u001b[0m in \u001b[0;36mpandas._libs.hashtable.PyObjectHashTable.get_item\u001b[1;34m()\u001b[0m\n",
      "\u001b[1;31mKeyError\u001b[0m: 'GDP_per_day'",
      "\nThe above exception was the direct cause of the following exception:\n",
      "\u001b[1;31mKeyError\u001b[0m                                  Traceback (most recent call last)",
      "\u001b[1;32m<ipython-input-4-dd2df676d856>\u001b[0m in \u001b[0;36m<module>\u001b[1;34m\u001b[0m\n\u001b[0;32m      1\u001b[0m \u001b[1;32mimport\u001b[0m \u001b[0mmatplotlib\u001b[0m\u001b[1;33m.\u001b[0m\u001b[0mpyplot\u001b[0m \u001b[1;32mas\u001b[0m \u001b[0mplt\u001b[0m\u001b[1;33m\u001b[0m\u001b[1;33m\u001b[0m\u001b[0m\n\u001b[0;32m      2\u001b[0m \u001b[0mplt\u001b[0m\u001b[1;33m.\u001b[0m\u001b[0mfigure\u001b[0m\u001b[1;33m(\u001b[0m\u001b[0mfigsize\u001b[0m\u001b[1;33m=\u001b[0m\u001b[1;33m(\u001b[0m\u001b[1;36m20\u001b[0m\u001b[1;33m,\u001b[0m\u001b[1;36m8\u001b[0m\u001b[1;33m)\u001b[0m\u001b[1;33m,\u001b[0m\u001b[0mdpi\u001b[0m\u001b[1;33m=\u001b[0m\u001b[1;36m80\u001b[0m\u001b[1;33m)\u001b[0m\u001b[1;33m\u001b[0m\u001b[1;33m\u001b[0m\u001b[0m\n\u001b[1;32m----> 3\u001b[1;33m \u001b[0mplt\u001b[0m\u001b[1;33m.\u001b[0m\u001b[0mplot\u001b[0m\u001b[1;33m(\u001b[0m\u001b[0mstock\u001b[0m\u001b[1;33m[\u001b[0m\u001b[1;34m'GDP_per_day'\u001b[0m\u001b[1;33m]\u001b[0m\u001b[1;33m)\u001b[0m\u001b[1;33m\u001b[0m\u001b[1;33m\u001b[0m\u001b[0m\n\u001b[0m\u001b[0;32m      4\u001b[0m \u001b[0mplt\u001b[0m\u001b[1;33m.\u001b[0m\u001b[0mxticks\u001b[0m\u001b[1;33m(\u001b[0m\u001b[0mticks\u001b[0m\u001b[1;33m=\u001b[0m\u001b[0mstock\u001b[0m\u001b[1;33m.\u001b[0m\u001b[0mindex\u001b[0m\u001b[1;33m[\u001b[0m\u001b[1;33m:\u001b[0m\u001b[1;33m:\u001b[0m\u001b[1;36m100\u001b[0m\u001b[1;33m]\u001b[0m\u001b[1;33m,\u001b[0m\u001b[0mlabels\u001b[0m\u001b[1;33m=\u001b[0m\u001b[0mstock\u001b[0m\u001b[1;33m.\u001b[0m\u001b[0mindex\u001b[0m\u001b[1;33m[\u001b[0m\u001b[1;33m:\u001b[0m\u001b[1;33m:\u001b[0m\u001b[1;36m100\u001b[0m\u001b[1;33m]\u001b[0m\u001b[1;33m)\u001b[0m\u001b[1;33m\u001b[0m\u001b[1;33m\u001b[0m\u001b[0m\n\u001b[0;32m      5\u001b[0m \u001b[0mplt\u001b[0m\u001b[1;33m.\u001b[0m\u001b[0mshow\u001b[0m\u001b[1;33m(\u001b[0m\u001b[1;33m)\u001b[0m\u001b[1;33m\u001b[0m\u001b[1;33m\u001b[0m\u001b[0m\n",
      "\u001b[1;32m~\\Anaconda3\\lib\\site-packages\\pandas\\core\\frame.py\u001b[0m in \u001b[0;36m__getitem__\u001b[1;34m(self, key)\u001b[0m\n\u001b[0;32m   2900\u001b[0m             \u001b[1;32mif\u001b[0m \u001b[0mself\u001b[0m\u001b[1;33m.\u001b[0m\u001b[0mcolumns\u001b[0m\u001b[1;33m.\u001b[0m\u001b[0mnlevels\u001b[0m \u001b[1;33m>\u001b[0m \u001b[1;36m1\u001b[0m\u001b[1;33m:\u001b[0m\u001b[1;33m\u001b[0m\u001b[1;33m\u001b[0m\u001b[0m\n\u001b[0;32m   2901\u001b[0m                 \u001b[1;32mreturn\u001b[0m \u001b[0mself\u001b[0m\u001b[1;33m.\u001b[0m\u001b[0m_getitem_multilevel\u001b[0m\u001b[1;33m(\u001b[0m\u001b[0mkey\u001b[0m\u001b[1;33m)\u001b[0m\u001b[1;33m\u001b[0m\u001b[1;33m\u001b[0m\u001b[0m\n\u001b[1;32m-> 2902\u001b[1;33m             \u001b[0mindexer\u001b[0m \u001b[1;33m=\u001b[0m \u001b[0mself\u001b[0m\u001b[1;33m.\u001b[0m\u001b[0mcolumns\u001b[0m\u001b[1;33m.\u001b[0m\u001b[0mget_loc\u001b[0m\u001b[1;33m(\u001b[0m\u001b[0mkey\u001b[0m\u001b[1;33m)\u001b[0m\u001b[1;33m\u001b[0m\u001b[1;33m\u001b[0m\u001b[0m\n\u001b[0m\u001b[0;32m   2903\u001b[0m             \u001b[1;32mif\u001b[0m \u001b[0mis_integer\u001b[0m\u001b[1;33m(\u001b[0m\u001b[0mindexer\u001b[0m\u001b[1;33m)\u001b[0m\u001b[1;33m:\u001b[0m\u001b[1;33m\u001b[0m\u001b[1;33m\u001b[0m\u001b[0m\n\u001b[0;32m   2904\u001b[0m                 \u001b[0mindexer\u001b[0m \u001b[1;33m=\u001b[0m \u001b[1;33m[\u001b[0m\u001b[0mindexer\u001b[0m\u001b[1;33m]\u001b[0m\u001b[1;33m\u001b[0m\u001b[1;33m\u001b[0m\u001b[0m\n",
      "\u001b[1;32m~\\Anaconda3\\lib\\site-packages\\pandas\\core\\indexes\\base.py\u001b[0m in \u001b[0;36mget_loc\u001b[1;34m(self, key, method, tolerance)\u001b[0m\n\u001b[0;32m   2895\u001b[0m                 \u001b[1;32mreturn\u001b[0m \u001b[0mself\u001b[0m\u001b[1;33m.\u001b[0m\u001b[0m_engine\u001b[0m\u001b[1;33m.\u001b[0m\u001b[0mget_loc\u001b[0m\u001b[1;33m(\u001b[0m\u001b[0mcasted_key\u001b[0m\u001b[1;33m)\u001b[0m\u001b[1;33m\u001b[0m\u001b[1;33m\u001b[0m\u001b[0m\n\u001b[0;32m   2896\u001b[0m             \u001b[1;32mexcept\u001b[0m \u001b[0mKeyError\u001b[0m \u001b[1;32mas\u001b[0m \u001b[0merr\u001b[0m\u001b[1;33m:\u001b[0m\u001b[1;33m\u001b[0m\u001b[1;33m\u001b[0m\u001b[0m\n\u001b[1;32m-> 2897\u001b[1;33m                 \u001b[1;32mraise\u001b[0m \u001b[0mKeyError\u001b[0m\u001b[1;33m(\u001b[0m\u001b[0mkey\u001b[0m\u001b[1;33m)\u001b[0m \u001b[1;32mfrom\u001b[0m \u001b[0merr\u001b[0m\u001b[1;33m\u001b[0m\u001b[1;33m\u001b[0m\u001b[0m\n\u001b[0m\u001b[0;32m   2898\u001b[0m \u001b[1;33m\u001b[0m\u001b[0m\n\u001b[0;32m   2899\u001b[0m         \u001b[1;32mif\u001b[0m \u001b[0mtolerance\u001b[0m \u001b[1;32mis\u001b[0m \u001b[1;32mnot\u001b[0m \u001b[1;32mNone\u001b[0m\u001b[1;33m:\u001b[0m\u001b[1;33m\u001b[0m\u001b[1;33m\u001b[0m\u001b[0m\n",
      "\u001b[1;31mKeyError\u001b[0m: 'GDP_per_day'"
     ]
    },
    {
     "data": {
      "text/plain": [
       "<Figure size 1600x640 with 0 Axes>"
      ]
     },
     "metadata": {},
     "output_type": "display_data"
    }
   ],
   "source": [
    "import matplotlib.pyplot as plt\n",
    "plt.figure(figsize=(20,8),dpi=80)\n",
    "plt.plot(stock['GDP'])\n",
    "plt.xticks(ticks=stock.index[::100],labels=stock.index[::100])\n",
    "plt.show()"
   ]
  },
  {
   "cell_type": "code",
   "execution_count": null,
   "metadata": {
    "ExecuteTime": {
     "end_time": "2020-11-29T03:19:00.347857Z",
     "start_time": "2020-11-29T03:18:58.364Z"
    }
   },
   "outputs": [],
   "source": [
    "time_stamp = 1 # 划分步长\n",
    "train_num = 1200  # 设定训练集的数量\n",
    "\n",
    "\n",
    "# 划分训练集与验证集\n",
    "train = stock[:train_num + time_stamp]\n",
    "test = stock[train_num - time_stamp :]\n",
    "\n",
    "\n",
    "# 归一化\n",
    "from sklearn.preprocessing import MinMaxScaler\n",
    "scaler = MinMaxScaler(feature_range=(0, 1))  \n",
    "scaled_data = scaler.fit_transform(train)\n",
    "x_train, y_train = [], []\n",
    "scaled_data = scaled_data.tolist()\n"
   ]
  },
  {
   "cell_type": "code",
   "execution_count": null,
   "metadata": {
    "ExecuteTime": {
     "end_time": "2020-11-29T03:19:00.349862Z",
     "start_time": "2020-11-29T03:18:58.367Z"
    }
   },
   "outputs": [],
   "source": [
    "# 训练集\n",
    "for i in range(time_stamp, len(train)):\n",
    "    x_train.append(scaled_data[i - time_stamp:i])\n",
    "    y_train.append(scaled_data[i][-1])\n",
    "x_train, y_train = np.array(x_train), np.array(y_train)\n",
    "\n",
    "# 验证集\n",
    "scaled_data = scaler.fit_transform(test)\n",
    "scaled_data = scaled_data.tolist()\n",
    "x_test, y_test = [], []\n",
    "for i in range(time_stamp, len(test)):\n",
    "    x_test.append(scaled_data[i - time_stamp:i])\n",
    "    y_test.append(scaled_data[i][-1])\n",
    "    print(scaled_data[i - time_stamp:i])\n",
    "    print(scaled_data[i][-1])\n",
    "x_test , y_test = np.array(x_test) , np.array(y_test)"
   ]
  },
  {
   "cell_type": "code",
   "execution_count": null,
   "metadata": {
    "ExecuteTime": {
     "end_time": "2020-11-29T03:19:00.351868Z",
     "start_time": "2020-11-29T03:18:58.369Z"
    }
   },
   "outputs": [],
   "source": [
    "#导入序贯模型\n",
    "from keras.models import Sequential\n",
    "from keras.layers import LSTM\n",
    "from keras.layers import Dense\n",
    "from keras.layers import Dropout\n",
    "# 超参数\n",
    "epochs = 3 # 周期参数\n",
    "batch_size = 8   # 每组样本个数\n",
    "# LSTM 参数: return_sequences=True LSTM输出为一个序列。默认为False，输出一个值。\n",
    "# input_dim：输入单个样本特征值的维度\n",
    "# input_length：输入的时间点长度\n",
    "model = Sequential() # 贯序模型\n",
    "# 加入LSTM 模型\n",
    "model.add(LSTM(units=100, return_sequences=True, input_dim=x_train.shape[-1], input_length=x_train.shape[1]))\n",
    "# 加入LSTM 模型\n",
    "model.add(LSTM(units=50))\n",
    "# 设置全连接层\n",
    "model.add(Dense(1))\n",
    "# 设置优化器\n",
    "model.compile(loss='mean_squared_error', optimizer='adam')\n",
    "history = model.fit(x_train, y_train, epochs=epochs, batch_size=batch_size, verbose=1)"
   ]
  },
  {
   "cell_type": "code",
   "execution_count": null,
   "metadata": {
    "ExecuteTime": {
     "end_time": "2020-11-29T03:19:00.354874Z",
     "start_time": "2020-11-29T03:18:58.375Z"
    }
   },
   "outputs": [],
   "source": [
    "# 预测每日的GDP\n",
    "predict_close_price = model.predict(x_test)\n",
    "scaler.fit_transform(pd.DataFrame(test['GDP_per_day'].values))\n",
    "# 反归一化\n",
    "pred = scaler.inverse_transform(predict_close_price)\n",
    "y_test = scaler.inverse_transform([y_test])\n",
    "predict_close_price"
   ]
  },
  {
   "cell_type": "code",
   "execution_count": null,
   "metadata": {
    "ExecuteTime": {
     "end_time": "2020-11-29T03:19:00.356881Z",
     "start_time": "2020-11-29T03:18:58.377Z"
    }
   },
   "outputs": [],
   "source": [
    "predict_close_price.shape"
   ]
  },
  {
   "cell_type": "code",
   "execution_count": null,
   "metadata": {
    "ExecuteTime": {
     "end_time": "2020-11-29T03:19:00.358885Z",
     "start_time": "2020-11-29T03:18:58.380Z"
    }
   },
   "outputs": [],
   "source": [
    "import matplotlib.pyplot as plt\n",
    "plt.figure(figsize=(16, 8))\n",
    "dict_data = {\n",
    "    'Predictions': pred.reshape(1,-1)[0] ,# 设置放大参数\n",
    "    'GDP_per_day': y_test[0]\n",
    "}\n",
    "data_pd = pd.DataFrame(dict_data)\n",
    "\n",
    "\n",
    "plt.plot(data_pd['GDP_per_day'],label = 'true')\n",
    "plt.plot(data_pd['Predictions'],label = 'predict')\n",
    "\n",
    "plt.xticks(data_pd.index[::30],stock[train_num:].index[::30])\n",
    "plt.legend()\n",
    "plt.show()"
   ]
  },
  {
   "cell_type": "code",
   "execution_count": null,
   "metadata": {
    "ExecuteTime": {
     "end_time": "2020-11-29T03:19:00.360891Z",
     "start_time": "2020-11-29T03:18:58.382Z"
    }
   },
   "outputs": [],
   "source": [
    "data_pd.to_csv('result.csv')"
   ]
  },
  {
   "cell_type": "code",
   "execution_count": null,
   "metadata": {
    "ExecuteTime": {
     "end_time": "2020-11-29T03:19:00.363900Z",
     "start_time": "2020-11-29T03:18:58.384Z"
    }
   },
   "outputs": [],
   "source": [
    "\n",
    "from matplotlib import pyplot\n",
    "pyplot.plot(history.history['loss'])\n",
    "pyplot.plot(history.history['val_loss'])\n",
    "pyplot.title('model train vs validation loss')\n",
    "pyplot.ylabel('loss')\n",
    "pyplot.xlabel('epoch')\n",
    "pyplot.legend(['train', 'validation'], loc='upper right')\n",
    "pyplot.show()"
   ]
  },
  {
   "cell_type": "code",
   "execution_count": null,
   "metadata": {},
   "outputs": [],
   "source": []
  }
 ],
 "metadata": {
  "kernelspec": {
   "display_name": "Python 3",
   "language": "python",
   "name": "python3"
  },
  "language_info": {
   "codemirror_mode": {
    "name": "ipython",
    "version": 3
   },
   "file_extension": ".py",
   "mimetype": "text/x-python",
   "name": "python",
   "nbconvert_exporter": "python",
   "pygments_lexer": "ipython3",
   "version": "3.8.3"
  },
  "toc": {
   "base_numbering": 1,
   "nav_menu": {},
   "number_sections": true,
   "sideBar": true,
   "skip_h1_title": false,
   "title_cell": "Table of Contents",
   "title_sidebar": "Contents",
   "toc_cell": false,
   "toc_position": {},
   "toc_section_display": true,
   "toc_window_display": false
  }
 },
 "nbformat": 4,
 "nbformat_minor": 4
}
