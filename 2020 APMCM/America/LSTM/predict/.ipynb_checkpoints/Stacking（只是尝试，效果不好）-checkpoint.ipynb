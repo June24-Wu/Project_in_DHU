{
 "cells": [
  {
   "cell_type": "code",
   "execution_count": 1,
   "metadata": {
    "ExecuteTime": {
     "end_time": "2020-11-27T20:16:17.263330Z",
     "start_time": "2020-11-27T20:16:15.990321Z"
    }
   },
   "outputs": [
    {
     "data": {
      "text/html": [
       "<div>\n",
       "<style scoped>\n",
       "    .dataframe tbody tr th:only-of-type {\n",
       "        vertical-align: middle;\n",
       "    }\n",
       "\n",
       "    .dataframe tbody tr th {\n",
       "        vertical-align: top;\n",
       "    }\n",
       "\n",
       "    .dataframe thead th {\n",
       "        text-align: right;\n",
       "    }\n",
       "</style>\n",
       "<table border=\"1\" class=\"dataframe\">\n",
       "  <thead>\n",
       "    <tr style=\"text-align: right;\">\n",
       "      <th></th>\n",
       "      <th>Year</th>\n",
       "      <th>Month</th>\n",
       "      <th>Day_num</th>\n",
       "      <th>Close_Last_Day</th>\n",
       "      <th>Close</th>\n",
       "    </tr>\n",
       "    <tr>\n",
       "      <th>Day</th>\n",
       "      <th></th>\n",
       "      <th></th>\n",
       "      <th></th>\n",
       "      <th></th>\n",
       "      <th></th>\n",
       "    </tr>\n",
       "  </thead>\n",
       "  <tbody>\n",
       "    <tr>\n",
       "      <th>2015/1/2</th>\n",
       "      <td>2015</td>\n",
       "      <td>1</td>\n",
       "      <td>42006</td>\n",
       "      <td>NaN</td>\n",
       "      <td>17832.99023</td>\n",
       "    </tr>\n",
       "    <tr>\n",
       "      <th>2015/1/5</th>\n",
       "      <td>2015</td>\n",
       "      <td>1</td>\n",
       "      <td>42009</td>\n",
       "      <td>17832.99023</td>\n",
       "      <td>17501.65039</td>\n",
       "    </tr>\n",
       "    <tr>\n",
       "      <th>2015/1/6</th>\n",
       "      <td>2015</td>\n",
       "      <td>1</td>\n",
       "      <td>42010</td>\n",
       "      <td>17501.65039</td>\n",
       "      <td>17371.64063</td>\n",
       "    </tr>\n",
       "    <tr>\n",
       "      <th>2015/1/7</th>\n",
       "      <td>2015</td>\n",
       "      <td>1</td>\n",
       "      <td>42011</td>\n",
       "      <td>17371.64063</td>\n",
       "      <td>17584.51953</td>\n",
       "    </tr>\n",
       "    <tr>\n",
       "      <th>2015/1/8</th>\n",
       "      <td>2015</td>\n",
       "      <td>1</td>\n",
       "      <td>42012</td>\n",
       "      <td>17584.51953</td>\n",
       "      <td>17907.86914</td>\n",
       "    </tr>\n",
       "    <tr>\n",
       "      <th>...</th>\n",
       "      <td>...</td>\n",
       "      <td>...</td>\n",
       "      <td>...</td>\n",
       "      <td>...</td>\n",
       "      <td>...</td>\n",
       "    </tr>\n",
       "    <tr>\n",
       "      <th>2020/11/19</th>\n",
       "      <td>2020</td>\n",
       "      <td>11</td>\n",
       "      <td>44154</td>\n",
       "      <td>29438.41992</td>\n",
       "      <td>29483.23047</td>\n",
       "    </tr>\n",
       "    <tr>\n",
       "      <th>2020/11/20</th>\n",
       "      <td>2020</td>\n",
       "      <td>11</td>\n",
       "      <td>44155</td>\n",
       "      <td>29483.23047</td>\n",
       "      <td>29263.48047</td>\n",
       "    </tr>\n",
       "    <tr>\n",
       "      <th>2020/11/23</th>\n",
       "      <td>2020</td>\n",
       "      <td>11</td>\n",
       "      <td>44158</td>\n",
       "      <td>29263.48047</td>\n",
       "      <td>29591.26953</td>\n",
       "    </tr>\n",
       "    <tr>\n",
       "      <th>2020/11/24</th>\n",
       "      <td>2020</td>\n",
       "      <td>11</td>\n",
       "      <td>44159</td>\n",
       "      <td>29591.26953</td>\n",
       "      <td>30046.24023</td>\n",
       "    </tr>\n",
       "    <tr>\n",
       "      <th>2020/11/25</th>\n",
       "      <td>2020</td>\n",
       "      <td>11</td>\n",
       "      <td>44160</td>\n",
       "      <td>30046.24023</td>\n",
       "      <td>29872.47070</td>\n",
       "    </tr>\n",
       "  </tbody>\n",
       "</table>\n",
       "<p>1487 rows × 5 columns</p>\n",
       "</div>"
      ],
      "text/plain": [
       "            Year  Month  Day_num  Close_Last_Day        Close\n",
       "Day                                                          \n",
       "2015/1/2    2015      1    42006             NaN  17832.99023\n",
       "2015/1/5    2015      1    42009     17832.99023  17501.65039\n",
       "2015/1/6    2015      1    42010     17501.65039  17371.64063\n",
       "2015/1/7    2015      1    42011     17371.64063  17584.51953\n",
       "2015/1/8    2015      1    42012     17584.51953  17907.86914\n",
       "...          ...    ...      ...             ...          ...\n",
       "2020/11/19  2020     11    44154     29438.41992  29483.23047\n",
       "2020/11/20  2020     11    44155     29483.23047  29263.48047\n",
       "2020/11/23  2020     11    44158     29263.48047  29591.26953\n",
       "2020/11/24  2020     11    44159     29591.26953  30046.24023\n",
       "2020/11/25  2020     11    44160     30046.24023  29872.47070\n",
       "\n",
       "[1487 rows x 5 columns]"
      ]
     },
     "execution_count": 1,
     "metadata": {},
     "output_type": "execute_result"
    }
   ],
   "source": [
    "import pandas as pd \n",
    "import numpy as np\n",
    "from sklearn.impute import SimpleImputer # 处理缺失值\n",
    "data = pd.read_csv('close.csv')\n",
    "data.set_index('Day',inplace=True)\n",
    "data"
   ]
  },
  {
   "cell_type": "code",
   "execution_count": 2,
   "metadata": {
    "ExecuteTime": {
     "end_time": "2020-11-27T20:16:17.280376Z",
     "start_time": "2020-11-27T20:16:17.270349Z"
    }
   },
   "outputs": [],
   "source": [
    "train = data[1:1006]\n",
    "test = data[1007:1258]\n",
    "x_train = train.drop(train.columns[len(train.columns)-1],axis=1)\n",
    "y_train = pd.DataFrame(train[train.columns[-1]])\n",
    "x_test = test.drop(test.columns[len(test.columns)-1],axis=1)\n",
    "y_test = pd.DataFrame(test[test.columns[-1]])"
   ]
  },
  {
   "cell_type": "code",
   "execution_count": 3,
   "metadata": {
    "ExecuteTime": {
     "end_time": "2020-11-27T20:16:17.905574Z",
     "start_time": "2020-11-27T20:16:17.288398Z"
    }
   },
   "outputs": [],
   "source": [
    "from sklearn.ensemble import GradientBoostingRegressor\n",
    "from sklearn.neural_network import MLPRegressor\n",
    "from sklearn.linear_model import LinearRegression\n",
    "from sklearn.ensemble import RandomForestClassifier  # 随机森林API\n",
    "from xgboost import XGBRegressor\n",
    "import lightgbm as lgb\n",
    "clf1 = GradientBoostingRegressor(loss=\"ls\", n_estimators=1000, max_depth=7)\n",
    "clf2 = lgb.LGBMRegressor()\n",
    "clf3 = LinearRegression()\n",
    "clf4 = XGBRegressor()\n"
   ]
  },
  {
   "cell_type": "code",
   "execution_count": 4,
   "metadata": {
    "ExecuteTime": {
     "end_time": "2020-11-27T20:16:17.931146Z",
     "start_time": "2020-11-27T20:16:17.907579Z"
    }
   },
   "outputs": [
    {
     "data": {
      "text/plain": [
       "0.964426627138572"
      ]
     },
     "execution_count": 4,
     "metadata": {},
     "output_type": "execute_result"
    }
   ],
   "source": [
    "\"\"\"fit model\"\"\"\n",
    "model = clf3.fit(x_train, y_train)\n",
    "pred = model.predict(x_test)\n",
    "model.score(x_test,y_test)"
   ]
  },
  {
   "cell_type": "code",
   "execution_count": 6,
   "metadata": {
    "ExecuteTime": {
     "end_time": "2020-11-27T20:16:50.927082Z",
     "start_time": "2020-11-27T20:16:50.732527Z"
    }
   },
   "outputs": [
    {
     "data": {
      "image/png": "[encoded data removed]",
      "text/plain": [
       "<Figure size 1152x576 with 1 Axes>"
      ]
     },
     "metadata": {
      "needs_background": "light"
     },
     "output_type": "display_data"
    },
    {
     "data": {
      "text/html": [
       "<div>\n",
       "<style scoped>\n",
       "    .dataframe tbody tr th:only-of-type {\n",
       "        vertical-align: middle;\n",
       "    }\n",
       "\n",
       "    .dataframe tbody tr th {\n",
       "        vertical-align: top;\n",
       "    }\n",
       "\n",
       "    .dataframe thead th {\n",
       "        text-align: right;\n",
       "    }\n",
       "</style>\n",
       "<table border=\"1\" class=\"dataframe\">\n",
       "  <thead>\n",
       "    <tr style=\"text-align: right;\">\n",
       "      <th></th>\n",
       "      <th>Predictions</th>\n",
       "      <th>true</th>\n",
       "    </tr>\n",
       "    <tr>\n",
       "      <th>Day</th>\n",
       "      <th></th>\n",
       "      <th></th>\n",
       "    </tr>\n",
       "  </thead>\n",
       "  <tbody>\n",
       "    <tr>\n",
       "      <th>2019/1/3</th>\n",
       "      <td>23387.223991</td>\n",
       "      <td>22686.22070</td>\n",
       "    </tr>\n",
       "    <tr>\n",
       "      <th>2019/1/4</th>\n",
       "      <td>22734.589250</td>\n",
       "      <td>23433.16016</td>\n",
       "    </tr>\n",
       "    <tr>\n",
       "      <th>2019/1/7</th>\n",
       "      <td>23472.353926</td>\n",
       "      <td>23531.34961</td>\n",
       "    </tr>\n",
       "    <tr>\n",
       "      <th>2019/1/8</th>\n",
       "      <td>23569.217472</td>\n",
       "      <td>23787.44922</td>\n",
       "    </tr>\n",
       "    <tr>\n",
       "      <th>2019/1/9</th>\n",
       "      <td>23822.177025</td>\n",
       "      <td>23879.11914</td>\n",
       "    </tr>\n",
       "    <tr>\n",
       "      <th>...</th>\n",
       "      <td>...</td>\n",
       "      <td>...</td>\n",
       "    </tr>\n",
       "    <tr>\n",
       "      <th>2019/12/24</th>\n",
       "      <td>28548.967560</td>\n",
       "      <td>28515.44922</td>\n",
       "    </tr>\n",
       "    <tr>\n",
       "      <th>2019/12/26</th>\n",
       "      <td>28512.906279</td>\n",
       "      <td>28621.39063</td>\n",
       "    </tr>\n",
       "    <tr>\n",
       "      <th>2019/12/27</th>\n",
       "      <td>28617.432727</td>\n",
       "      <td>28645.25977</td>\n",
       "    </tr>\n",
       "    <tr>\n",
       "      <th>2019/12/30</th>\n",
       "      <td>28640.434085</td>\n",
       "      <td>28462.14063</td>\n",
       "    </tr>\n",
       "    <tr>\n",
       "      <th>2019/12/31</th>\n",
       "      <td>28459.220858</td>\n",
       "      <td>28538.43945</td>\n",
       "    </tr>\n",
       "  </tbody>\n",
       "</table>\n",
       "<p>251 rows × 2 columns</p>\n",
       "</div>"
      ],
      "text/plain": [
       "             Predictions         true\n",
       "Day                                  \n",
       "2019/1/3    23387.223991  22686.22070\n",
       "2019/1/4    22734.589250  23433.16016\n",
       "2019/1/7    23472.353926  23531.34961\n",
       "2019/1/8    23569.217472  23787.44922\n",
       "2019/1/9    23822.177025  23879.11914\n",
       "...                  ...          ...\n",
       "2019/12/24  28548.967560  28515.44922\n",
       "2019/12/26  28512.906279  28621.39063\n",
       "2019/12/27  28617.432727  28645.25977\n",
       "2019/12/30  28640.434085  28462.14063\n",
       "2019/12/31  28459.220858  28538.43945\n",
       "\n",
       "[251 rows x 2 columns]"
      ]
     },
     "execution_count": 6,
     "metadata": {},
     "output_type": "execute_result"
    }
   ],
   "source": [
    "\n",
    "import matplotlib.pyplot as plt\n",
    "plt.figure(figsize=(16, 8))\n",
    "dict_data = {\n",
    "    'Predictions': pred.flatten(),\n",
    "    'true': y_test.values.flatten()\n",
    "}\n",
    "\n",
    "data_pd = pd.DataFrame(dict_data,index=test.index)\n",
    "\n",
    "plt.plot(data_pd['Predictions'],label = 'Predict')\n",
    "plt.plot(data_pd['true'],label = 'true')\n",
    "\n",
    "plt.xticks(data_pd.index[::30],data_pd.index[::30])\n",
    "plt.legend()\n",
    "plt.show()\n",
    "data_pd"
   ]
  },
  {
   "cell_type": "code",
   "execution_count": null,
   "metadata": {},
   "outputs": [],
   "source": []
  }
 ],
 "metadata": {
  "kernelspec": {
   "display_name": "Python 3",
   "language": "python",
   "name": "python3"
  },
  "language_info": {
   "codemirror_mode": {
    "name": "ipython",
    "version": 3
   },
   "file_extension": ".py",
   "mimetype": "text/x-python",
   "name": "python",
   "nbconvert_exporter": "python",
   "pygments_lexer": "ipython3",
   "version": "3.8.3"
  },
  "toc": {
   "base_numbering": 1,
   "nav_menu": {},
   "number_sections": true,
   "sideBar": true,
   "skip_h1_title": false,
   "title_cell": "Table of Contents",
   "title_sidebar": "Contents",
   "toc_cell": false,
   "toc_position": {},
   "toc_section_display": true,
   "toc_window_display": false
  }
 },
 "nbformat": 4,
 "nbformat_minor": 4
}
