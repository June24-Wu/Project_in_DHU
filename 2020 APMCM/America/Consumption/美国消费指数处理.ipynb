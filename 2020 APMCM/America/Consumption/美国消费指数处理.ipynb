{
 "cells": [
  {
   "cell_type": "code",
   "execution_count": 18,
   "metadata": {
    "ExecuteTime": {
     "end_time": "2020-11-27T00:04:04.808609Z",
     "start_time": "2020-11-27T00:04:04.798081Z"
    }
   },
   "outputs": [],
   "source": [
    "import tushare as ts\n",
    "import pandas as pd \n",
    "import numpy as np \n",
    "ts.set_token('0f4b35d3d62521f3651900c34d94c99908f69dee7628fd4510801ba7')\n",
    "pro = ts.pro_api()"
   ]
  },
  {
   "cell_type": "code",
   "execution_count": 21,
   "metadata": {
    "ExecuteTime": {
     "end_time": "2020-11-27T00:09:45.463891Z",
     "start_time": "2020-11-27T00:09:45.459885Z"
    }
   },
   "outputs": [],
   "source": [
    "# name = 'KO'\n",
    "# name = 'PG'\n",
    "# name = 'PEP'\n",
    "# name = 'WMT'\n",
    "# name = 'PM'\n",
    "# data = pro.us_daily(ts_code=name, start_date='20150101')\n",
    "# data\n",
    "name = ['KO','PG','PEP','WMT','PM']"
   ]
  },
  {
   "cell_type": "code",
   "execution_count": 30,
   "metadata": {
    "ExecuteTime": {
     "end_time": "2020-11-27T00:15:30.372541Z",
     "start_time": "2020-11-27T00:15:30.314387Z"
    }
   },
   "outputs": [
    {
     "data": {
      "text/html": [
       "<div>\n",
       "<style scoped>\n",
       "    .dataframe tbody tr th:only-of-type {\n",
       "        vertical-align: middle;\n",
       "    }\n",
       "\n",
       "    .dataframe tbody tr th {\n",
       "        vertical-align: top;\n",
       "    }\n",
       "\n",
       "    .dataframe thead th {\n",
       "        text-align: right;\n",
       "    }\n",
       "</style>\n",
       "<table border=\"1\" class=\"dataframe\">\n",
       "  <thead>\n",
       "    <tr style=\"text-align: right;\">\n",
       "      <th></th>\n",
       "      <th>KO</th>\n",
       "      <th>PG</th>\n",
       "      <th>PEP</th>\n",
       "      <th>WMT</th>\n",
       "      <th>PM</th>\n",
       "    </tr>\n",
       "    <tr>\n",
       "      <th>trade_date</th>\n",
       "      <th></th>\n",
       "      <th></th>\n",
       "      <th></th>\n",
       "      <th></th>\n",
       "      <th></th>\n",
       "    </tr>\n",
       "  </thead>\n",
       "  <tbody>\n",
       "    <tr>\n",
       "      <th>20150102</th>\n",
       "      <td>42.14</td>\n",
       "      <td>90.44</td>\n",
       "      <td>94.44</td>\n",
       "      <td>85.90</td>\n",
       "      <td>81.02</td>\n",
       "    </tr>\n",
       "    <tr>\n",
       "      <th>20150105</th>\n",
       "      <td>42.14</td>\n",
       "      <td>90.01</td>\n",
       "      <td>93.73</td>\n",
       "      <td>85.65</td>\n",
       "      <td>80.41</td>\n",
       "    </tr>\n",
       "    <tr>\n",
       "      <th>20150106</th>\n",
       "      <td>42.46</td>\n",
       "      <td>89.60</td>\n",
       "      <td>93.02</td>\n",
       "      <td>86.31</td>\n",
       "      <td>81.10</td>\n",
       "    </tr>\n",
       "    <tr>\n",
       "      <th>20150107</th>\n",
       "      <td>42.99</td>\n",
       "      <td>90.07</td>\n",
       "      <td>95.74</td>\n",
       "      <td>88.60</td>\n",
       "      <td>81.71</td>\n",
       "    </tr>\n",
       "    <tr>\n",
       "      <th>20150108</th>\n",
       "      <td>43.51</td>\n",
       "      <td>91.10</td>\n",
       "      <td>97.48</td>\n",
       "      <td>90.47</td>\n",
       "      <td>82.94</td>\n",
       "    </tr>\n",
       "    <tr>\n",
       "      <th>...</th>\n",
       "      <td>...</td>\n",
       "      <td>...</td>\n",
       "      <td>...</td>\n",
       "      <td>...</td>\n",
       "      <td>...</td>\n",
       "    </tr>\n",
       "    <tr>\n",
       "      <th>20201119</th>\n",
       "      <td>53.13</td>\n",
       "      <td>139.53</td>\n",
       "      <td>143.32</td>\n",
       "      <td>152.12</td>\n",
       "      <td>77.51</td>\n",
       "    </tr>\n",
       "    <tr>\n",
       "      <th>20201120</th>\n",
       "      <td>52.67</td>\n",
       "      <td>139.30</td>\n",
       "      <td>143.42</td>\n",
       "      <td>150.24</td>\n",
       "      <td>76.73</td>\n",
       "    </tr>\n",
       "    <tr>\n",
       "      <th>20201123</th>\n",
       "      <td>52.68</td>\n",
       "      <td>138.76</td>\n",
       "      <td>143.02</td>\n",
       "      <td>150.93</td>\n",
       "      <td>76.63</td>\n",
       "    </tr>\n",
       "    <tr>\n",
       "      <th>20201124</th>\n",
       "      <td>53.22</td>\n",
       "      <td>138.31</td>\n",
       "      <td>144.03</td>\n",
       "      <td>151.36</td>\n",
       "      <td>78.02</td>\n",
       "    </tr>\n",
       "    <tr>\n",
       "      <th>20201125</th>\n",
       "      <td>52.93</td>\n",
       "      <td>138.68</td>\n",
       "      <td>144.16</td>\n",
       "      <td>151.83</td>\n",
       "      <td>76.89</td>\n",
       "    </tr>\n",
       "  </tbody>\n",
       "</table>\n",
       "<p>1485 rows × 5 columns</p>\n",
       "</div>"
      ],
      "text/plain": [
       "               KO      PG     PEP     WMT     PM\n",
       "trade_date                                      \n",
       "20150102    42.14   90.44   94.44   85.90  81.02\n",
       "20150105    42.14   90.01   93.73   85.65  80.41\n",
       "20150106    42.46   89.60   93.02   86.31  81.10\n",
       "20150107    42.99   90.07   95.74   88.60  81.71\n",
       "20150108    43.51   91.10   97.48   90.47  82.94\n",
       "...           ...     ...     ...     ...    ...\n",
       "20201119    53.13  139.53  143.32  152.12  77.51\n",
       "20201120    52.67  139.30  143.42  150.24  76.73\n",
       "20201123    52.68  138.76  143.02  150.93  76.63\n",
       "20201124    53.22  138.31  144.03  151.36  78.02\n",
       "20201125    52.93  138.68  144.16  151.83  76.89\n",
       "\n",
       "[1485 rows x 5 columns]"
      ]
     },
     "execution_count": 30,
     "metadata": {},
     "output_type": "execute_result"
    }
   ],
   "source": [
    "result = pd.DataFrame()\n",
    "for stock_name in name:\n",
    "    data = pd.read_csv(stock_name+'.csv')\n",
    "    data.set_index('trade_date',inplace=True)\n",
    "    data = pd.DataFrame(data['close'])\n",
    "    data[stock_name]=data['close']\n",
    "    data.drop('close',axis=1,inplace=True)\n",
    "    result = pd.concat([result, data], axis=1, join='outer')\n",
    "result"
   ]
  },
  {
   "cell_type": "code",
   "execution_count": 31,
   "metadata": {
    "ExecuteTime": {
     "end_time": "2020-11-27T00:16:15.154382Z",
     "start_time": "2020-11-27T00:16:15.131321Z"
    }
   },
   "outputs": [],
   "source": [
    "result.to_csv('消费者股票指数.csv')"
   ]
  }
 ],
 "metadata": {
  "kernelspec": {
   "display_name": "Python 3",
   "language": "python",
   "name": "python3"
  },
  "language_info": {
   "codemirror_mode": {
    "name": "ipython",
    "version": 3
   },
   "file_extension": ".py",
   "mimetype": "text/x-python",
   "name": "python",
   "nbconvert_exporter": "python",
   "pygments_lexer": "ipython3",
   "version": "3.8.3"
  },
  "toc": {
   "base_numbering": 1,
   "nav_menu": {},
   "number_sections": true,
   "sideBar": true,
   "skip_h1_title": false,
   "title_cell": "Table of Contents",
   "title_sidebar": "Contents",
   "toc_cell": false,
   "toc_position": {},
   "toc_section_display": true,
   "toc_window_display": false
  }
 },
 "nbformat": 4,
 "nbformat_minor": 4
}
