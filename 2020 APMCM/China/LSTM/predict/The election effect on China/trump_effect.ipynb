{
 "cells": [
  {
   "cell_type": "code",
   "execution_count": 7,
   "metadata": {
    "ExecuteTime": {
     "end_time": "2020-11-29T05:32:29.273629Z",
     "start_time": "2020-11-29T05:32:29.240502Z"
    },
    "scrolled": true
   },
   "outputs": [
    {
     "data": {
      "text/html": [
       "<div>\n",
       "<style scoped>\n",
       "    .dataframe tbody tr th:only-of-type {\n",
       "        vertical-align: middle;\n",
       "    }\n",
       "\n",
       "    .dataframe tbody tr th {\n",
       "        vertical-align: top;\n",
       "    }\n",
       "\n",
       "    .dataframe thead th {\n",
       "        text-align: right;\n",
       "    }\n",
       "</style>\n",
       "<table border=\"1\" class=\"dataframe\">\n",
       "  <thead>\n",
       "    <tr style=\"text-align: right;\">\n",
       "      <th></th>\n",
       "      <th>C</th>\n",
       "      <th>I</th>\n",
       "      <th>G</th>\n",
       "      <th>NX</th>\n",
       "      <th>American_GDP</th>\n",
       "      <th>GDP</th>\n",
       "    </tr>\n",
       "    <tr>\n",
       "      <th>Day</th>\n",
       "      <th></th>\n",
       "      <th></th>\n",
       "      <th></th>\n",
       "      <th></th>\n",
       "      <th></th>\n",
       "      <th></th>\n",
       "    </tr>\n",
       "  </thead>\n",
       "  <tbody>\n",
       "    <tr>\n",
       "      <th>2015/1/5</th>\n",
       "      <td>-464.579858</td>\n",
       "      <td>4.511981e+08</td>\n",
       "      <td>16203.00000</td>\n",
       "      <td>601.000000</td>\n",
       "      <td>2.680000e+11</td>\n",
       "      <td>2.640000e+11</td>\n",
       "    </tr>\n",
       "    <tr>\n",
       "      <th>2015/1/6</th>\n",
       "      <td>-469.069098</td>\n",
       "      <td>4.209622e+08</td>\n",
       "      <td>16203.00000</td>\n",
       "      <td>601.000000</td>\n",
       "      <td>2.650000e+11</td>\n",
       "      <td>2.710000e+11</td>\n",
       "    </tr>\n",
       "    <tr>\n",
       "      <th>2015/1/7</th>\n",
       "      <td>-473.931087</td>\n",
       "      <td>3.201912e+08</td>\n",
       "      <td>16203.00000</td>\n",
       "      <td>601.000000</td>\n",
       "      <td>2.680000e+11</td>\n",
       "      <td>2.720000e+11</td>\n",
       "    </tr>\n",
       "    <tr>\n",
       "      <th>2015/1/8</th>\n",
       "      <td>-474.982208</td>\n",
       "      <td>2.950030e+08</td>\n",
       "      <td>16203.00000</td>\n",
       "      <td>601.000000</td>\n",
       "      <td>2.670000e+11</td>\n",
       "      <td>2.650000e+11</td>\n",
       "    </tr>\n",
       "    <tr>\n",
       "      <th>2015/1/9</th>\n",
       "      <td>-476.512447</td>\n",
       "      <td>3.499827e+08</td>\n",
       "      <td>16203.00000</td>\n",
       "      <td>601.000000</td>\n",
       "      <td>2.650000e+11</td>\n",
       "      <td>2.640000e+11</td>\n",
       "    </tr>\n",
       "    <tr>\n",
       "      <th>...</th>\n",
       "      <td>...</td>\n",
       "      <td>...</td>\n",
       "      <td>...</td>\n",
       "      <td>...</td>\n",
       "      <td>...</td>\n",
       "      <td>...</td>\n",
       "    </tr>\n",
       "    <tr>\n",
       "      <th>2021/11/24</th>\n",
       "      <td>676.613692</td>\n",
       "      <td>8.927819e+07</td>\n",
       "      <td>18078.50588</td>\n",
       "      <td>108.552066</td>\n",
       "      <td>3.050000e+11</td>\n",
       "      <td>NaN</td>\n",
       "    </tr>\n",
       "    <tr>\n",
       "      <th>2021/11/25</th>\n",
       "      <td>631.376983</td>\n",
       "      <td>9.355585e+07</td>\n",
       "      <td>19834.58512</td>\n",
       "      <td>105.812135</td>\n",
       "      <td>3.050000e+11</td>\n",
       "      <td>NaN</td>\n",
       "    </tr>\n",
       "    <tr>\n",
       "      <th>2021/11/26</th>\n",
       "      <td>668.026725</td>\n",
       "      <td>9.435478e+07</td>\n",
       "      <td>19312.19628</td>\n",
       "      <td>120.393393</td>\n",
       "      <td>3.050000e+11</td>\n",
       "      <td>NaN</td>\n",
       "    </tr>\n",
       "    <tr>\n",
       "      <th>2021/11/27</th>\n",
       "      <td>678.241695</td>\n",
       "      <td>8.488439e+07</td>\n",
       "      <td>19354.87332</td>\n",
       "      <td>108.079494</td>\n",
       "      <td>3.070000e+11</td>\n",
       "      <td>NaN</td>\n",
       "    </tr>\n",
       "    <tr>\n",
       "      <th>2021/11/28</th>\n",
       "      <td>679.946333</td>\n",
       "      <td>1.148134e+08</td>\n",
       "      <td>19372.13750</td>\n",
       "      <td>110.022862</td>\n",
       "      <td>3.050000e+11</td>\n",
       "      <td>NaN</td>\n",
       "    </tr>\n",
       "  </tbody>\n",
       "</table>\n",
       "<p>1804 rows × 6 columns</p>\n",
       "</div>"
      ],
      "text/plain": [
       "                     C             I            G          NX  American_GDP  \\\n",
       "Day                                                                           \n",
       "2015/1/5   -464.579858  4.511981e+08  16203.00000  601.000000  2.680000e+11   \n",
       "2015/1/6   -469.069098  4.209622e+08  16203.00000  601.000000  2.650000e+11   \n",
       "2015/1/7   -473.931087  3.201912e+08  16203.00000  601.000000  2.680000e+11   \n",
       "2015/1/8   -474.982208  2.950030e+08  16203.00000  601.000000  2.670000e+11   \n",
       "2015/1/9   -476.512447  3.499827e+08  16203.00000  601.000000  2.650000e+11   \n",
       "...                ...           ...          ...         ...           ...   \n",
       "2021/11/24  676.613692  8.927819e+07  18078.50588  108.552066  3.050000e+11   \n",
       "2021/11/25  631.376983  9.355585e+07  19834.58512  105.812135  3.050000e+11   \n",
       "2021/11/26  668.026725  9.435478e+07  19312.19628  120.393393  3.050000e+11   \n",
       "2021/11/27  678.241695  8.488439e+07  19354.87332  108.079494  3.070000e+11   \n",
       "2021/11/28  679.946333  1.148134e+08  19372.13750  110.022862  3.050000e+11   \n",
       "\n",
       "                     GDP  \n",
       "Day                       \n",
       "2015/1/5    2.640000e+11  \n",
       "2015/1/6    2.710000e+11  \n",
       "2015/1/7    2.720000e+11  \n",
       "2015/1/8    2.650000e+11  \n",
       "2015/1/9    2.640000e+11  \n",
       "...                  ...  \n",
       "2021/11/24           NaN  \n",
       "2021/11/25           NaN  \n",
       "2021/11/26           NaN  \n",
       "2021/11/27           NaN  \n",
       "2021/11/28           NaN  \n",
       "\n",
       "[1804 rows x 6 columns]"
      ]
     },
     "execution_count": 7,
     "metadata": {},
     "output_type": "execute_result"
    }
   ],
   "source": [
    "import pandas as pd \n",
    "import numpy as np\n",
    "from sklearn.linear_model import LinearRegression\n",
    "from sklearn.ensemble import AdaBoostRegressor\n",
    "import warnings\n",
    "warnings.filterwarnings(\"ignore\")\n",
    "clf = LinearRegression()\n",
    "# clf = AdaBoostRegressor(learning_rate=0.1)\n",
    "file_name = 'model_data_for_trump'\n",
    "data = pd.read_csv(file_name+'.csv')\n",
    "data.set_index('Day',inplace=True)\n",
    "rolling_num = 7\n",
    "# for i in range(rolling_num,1486):\n",
    "#      data.iloc[i:i+1,3] = data.iloc[i-rolling_num:i,4].mean()   \n",
    "data.drop(['Year','Month'],inplace=True,axis=1)\n",
    "data"
   ]
  },
  {
   "cell_type": "code",
   "execution_count": 69,
   "metadata": {
    "ExecuteTime": {
     "end_time": "2020-11-29T05:46:17.329421Z",
     "start_time": "2020-11-29T05:46:15.977397Z"
    }
   },
   "outputs": [
    {
     "data": {
      "image/png": "[encoded data removed]",
      "text/plain": [
       "<Figure size 432x288 with 1 Axes>"
      ]
     },
     "metadata": {
      "needs_background": "light"
     },
     "output_type": "display_data"
    },
    {
     "name": "stdout",
     "output_type": "stream",
     "text": [
      "mse: 3.2295909759982717e+21\n"
     ]
    },
    {
     "data": {
      "text/plain": [
       "0.1317375641098129"
      ]
     },
     "execution_count": 69,
     "metadata": {},
     "output_type": "execute_result"
    }
   ],
   "source": [
    "import matplotlib.pyplot as plt \n",
    "from sklearn.metrics import mean_squared_error\n",
    "train = data[:1200]\n",
    "test = data[1200:1401]\n",
    "x_train , x_test = train.drop('GDP',axis =1 ) , test.drop('GDP', axis = 1 )\n",
    "y_train , y_test = train['GDP'] , test['GDP']\n",
    "# x_train , x_test , y_train , y_test = train_test_split(data.drop('GDP',axis=1),data['GDP'],test_size = 0.2)\n",
    "model = clf.fit(x_train, y_train)\n",
    "model.score(x_test , y_test)\n",
    "pred = model.predict(x_test)\n",
    "plt.plot(y_test)\n",
    "plt.plot(pred)\n",
    "plt.show()\n",
    "mse_test=mean_squared_error(y_test,pred)\n",
    "print('mse:',mse_test)\n",
    "bias = abs((pred - y_test)/y_test)\n",
    "bias = sum(bias)/len(bias)\n",
    "bias\n",
    "# print('bias:',bias)"
   ]
  },
  {
   "cell_type": "code",
   "execution_count": 2,
   "metadata": {
    "ExecuteTime": {
     "end_time": "2020-11-29T05:25:46.064276Z",
     "start_time": "2020-11-29T05:25:46.057257Z"
    }
   },
   "outputs": [],
   "source": [
    "def regression(num):\n",
    "    \"\"\"fit model\"\"\"\n",
    "    train = data[rolling_num:num]\n",
    "    x_train = train.drop(train.columns[len(train.columns)-1],axis=1)\n",
    "    y_train = pd.DataFrame(train[train.columns[-1]])\n",
    "    test = data[num:num+1]\n",
    "    x_test = test.drop(test.columns[len(test.columns)-1],axis=1)\n",
    "    model = clf.fit(x_train, y_train)\n",
    "    pred_value = model.predict(x_test)\n",
    "    return pred_value "
   ]
  },
  {
   "cell_type": "code",
   "execution_count": 3,
   "metadata": {
    "ExecuteTime": {
     "end_time": "2020-11-29T05:25:46.484917Z",
     "start_time": "2020-11-29T05:25:46.071295Z"
    }
   },
   "outputs": [
    {
     "name": "stdout",
     "output_type": "stream",
     "text": [
      "0\n"
     ]
    },
    {
     "ename": "TypeError",
     "evalue": "score() missing 2 required positional arguments: 'X' and 'y'",
     "output_type": "error",
     "traceback": [
      "\u001b[1;31m---------------------------------------------------------------------------\u001b[0m",
      "\u001b[1;31mTypeError\u001b[0m                                 Traceback (most recent call last)",
      "\u001b[1;32m<ipython-input-3-36910605eb76>\u001b[0m in \u001b[0;36m<module>\u001b[1;34m\u001b[0m\n\u001b[0;32m      3\u001b[0m \u001b[1;32mfor\u001b[0m \u001b[0mi\u001b[0m \u001b[1;32min\u001b[0m \u001b[0mrange\u001b[0m\u001b[1;33m(\u001b[0m\u001b[1;36m1402\u001b[0m\u001b[1;33m,\u001b[0m\u001b[0mlen\u001b[0m\u001b[1;33m(\u001b[0m\u001b[0mdata\u001b[0m\u001b[1;33m)\u001b[0m\u001b[1;33m)\u001b[0m\u001b[1;33m:\u001b[0m \u001b[1;31m#  408 count\u001b[0m\u001b[1;33m\u001b[0m\u001b[1;33m\u001b[0m\u001b[0m\n\u001b[0;32m      4\u001b[0m     \u001b[0mprint\u001b[0m\u001b[1;33m(\u001b[0m\u001b[0mi\u001b[0m\u001b[1;33m-\u001b[0m\u001b[1;36m1402\u001b[0m\u001b[1;33m)\u001b[0m\u001b[1;33m\u001b[0m\u001b[1;33m\u001b[0m\u001b[0m\n\u001b[1;32m----> 5\u001b[1;33m     \u001b[0mpred\u001b[0m \u001b[1;33m,\u001b[0m \u001b[0mscore_value\u001b[0m \u001b[1;33m=\u001b[0m \u001b[0mregression\u001b[0m\u001b[1;33m(\u001b[0m\u001b[0mi\u001b[0m\u001b[1;33m)\u001b[0m\u001b[1;33m\u001b[0m\u001b[1;33m\u001b[0m\u001b[0m\n\u001b[0m\u001b[0;32m      6\u001b[0m     \u001b[0mscore_list\u001b[0m\u001b[1;33m.\u001b[0m\u001b[0mappend\u001b[0m\u001b[1;33m(\u001b[0m\u001b[0mscore_value\u001b[0m\u001b[1;33m)\u001b[0m\u001b[1;33m\u001b[0m\u001b[1;33m\u001b[0m\u001b[0m\n\u001b[0;32m      7\u001b[0m     \u001b[0mprint\u001b[0m\u001b[1;33m(\u001b[0m\u001b[1;34m'predict:'\u001b[0m\u001b[1;33m,\u001b[0m\u001b[0mpred\u001b[0m\u001b[1;33m)\u001b[0m\u001b[1;33m\u001b[0m\u001b[1;33m\u001b[0m\u001b[0m\n",
      "\u001b[1;32m<ipython-input-2-f981a42cca17>\u001b[0m in \u001b[0;36mregression\u001b[1;34m(num)\u001b[0m\n\u001b[0;32m      8\u001b[0m     \u001b[0mmodel\u001b[0m \u001b[1;33m=\u001b[0m \u001b[0mclf\u001b[0m\u001b[1;33m.\u001b[0m\u001b[0mfit\u001b[0m\u001b[1;33m(\u001b[0m\u001b[0mx_train\u001b[0m\u001b[1;33m,\u001b[0m \u001b[0my_train\u001b[0m\u001b[1;33m)\u001b[0m\u001b[1;33m\u001b[0m\u001b[1;33m\u001b[0m\u001b[0m\n\u001b[0;32m      9\u001b[0m     \u001b[0mpred_value\u001b[0m \u001b[1;33m=\u001b[0m \u001b[0mmodel\u001b[0m\u001b[1;33m.\u001b[0m\u001b[0mpredict\u001b[0m\u001b[1;33m(\u001b[0m\u001b[0mx_test\u001b[0m\u001b[1;33m)\u001b[0m\u001b[1;33m\u001b[0m\u001b[1;33m\u001b[0m\u001b[0m\n\u001b[1;32m---> 10\u001b[1;33m     \u001b[0mscore\u001b[0m \u001b[1;33m=\u001b[0m \u001b[0mmodel\u001b[0m\u001b[1;33m.\u001b[0m\u001b[0mscore\u001b[0m\u001b[1;33m(\u001b[0m\u001b[1;33m)\u001b[0m\u001b[1;33m\u001b[0m\u001b[1;33m\u001b[0m\u001b[0m\n\u001b[0m\u001b[0;32m     11\u001b[0m     \u001b[1;32mreturn\u001b[0m \u001b[0mpred_value\u001b[0m \u001b[1;33m,\u001b[0m \u001b[0mscore\u001b[0m\u001b[1;33m\u001b[0m\u001b[1;33m\u001b[0m\u001b[0m\n",
      "\u001b[1;31mTypeError\u001b[0m: score() missing 2 required positional arguments: 'X' and 'y'"
     ]
    }
   ],
   "source": [
    "import random\n",
    "for i in range(1402,len(data)): #  408 count\n",
    "    print(i-1402)\n",
    "    pred = regression(i)\n",
    "    print('predict:',pred)\n",
    "    data.iloc[i:i+1,-1] = pred \n",
    "#     if data.iloc[i:i+1,-1].values > 347000000000:\n",
    "#         data.iloc[i:i+1,-1] = data.iloc[i:i+1,-1] *  (1-random.random()*0.25)\n",
    "#     if data.iloc[i:i+1,-1].values < 262000000000:\n",
    "#         data.iloc[i:i+1,-1] = data.iloc[i:i+1,-1] * (1+random.random()*0.25)"
   ]
  },
  {
   "cell_type": "code",
   "execution_count": null,
   "metadata": {
    "ExecuteTime": {
     "end_time": "2020-11-29T05:25:46.486923Z",
     "start_time": "2020-11-29T05:25:44.901Z"
    }
   },
   "outputs": [],
   "source": [
    "clf.coef_"
   ]
  },
  {
   "cell_type": "code",
   "execution_count": null,
   "metadata": {
    "ExecuteTime": {
     "end_time": "2020-11-29T05:25:46.489933Z",
     "start_time": "2020-11-29T05:25:44.903Z"
    },
    "scrolled": true
   },
   "outputs": [],
   "source": [
    "clf.intercept_"
   ]
  },
  {
   "cell_type": "code",
   "execution_count": null,
   "metadata": {
    "ExecuteTime": {
     "end_time": "2020-11-29T05:25:46.491937Z",
     "start_time": "2020-11-29T05:25:44.905Z"
    }
   },
   "outputs": [],
   "source": [
    "data.to_csv(file_name+'_result.csv')"
   ]
  },
  {
   "cell_type": "code",
   "execution_count": null,
   "metadata": {
    "ExecuteTime": {
     "end_time": "2020-11-29T05:25:46.494944Z",
     "start_time": "2020-11-29T05:25:44.907Z"
    }
   },
   "outputs": [],
   "source": [
    "score_list = pd.DataFrame(score_list)\n",
    "score_list.to.csv(file_name + '_result_score.csv')"
   ]
  },
  {
   "cell_type": "code",
   "execution_count": null,
   "metadata": {
    "ExecuteTime": {
     "end_time": "2020-11-29T05:25:46.497953Z",
     "start_time": "2020-11-29T05:25:44.909Z"
    }
   },
   "outputs": [],
   "source": [
    "import matplotlib.pyplot as plt\n",
    "plt.figure(figsize=(16, 8))\n",
    "plt.plot(data['GDP'])\n",
    "plt.xticks(data.index[::300],data.index[::300])\n",
    "plt.legend()\n",
    "plt.show()"
   ]
  }
 ],
 "metadata": {
  "kernelspec": {
   "display_name": "Python 3",
   "language": "python",
   "name": "python3"
  },
  "language_info": {
   "codemirror_mode": {
    "name": "ipython",
    "version": 3
   },
   "file_extension": ".py",
   "mimetype": "text/x-python",
   "name": "python",
   "nbconvert_exporter": "python",
   "pygments_lexer": "ipython3",
   "version": "3.8.3"
  },
  "toc": {
   "base_numbering": 1,
   "nav_menu": {},
   "number_sections": true,
   "sideBar": true,
   "skip_h1_title": false,
   "title_cell": "Table of Contents",
   "title_sidebar": "Contents",
   "toc_cell": false,
   "toc_position": {},
   "toc_section_display": true,
   "toc_window_display": false
  }
 },
 "nbformat": 4,
 "nbformat_minor": 4
}
