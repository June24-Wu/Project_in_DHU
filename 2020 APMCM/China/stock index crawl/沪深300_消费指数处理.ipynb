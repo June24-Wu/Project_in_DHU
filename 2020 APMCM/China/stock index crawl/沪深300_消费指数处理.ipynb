{
 "cells": [
  {
   "cell_type": "code",
   "execution_count": 13,
   "metadata": {
    "ExecuteTime": {
     "end_time": "2020-11-26T10:24:12.614778Z",
     "start_time": "2020-11-26T10:24:12.604720Z"
    }
   },
   "outputs": [],
   "source": [
    "import tushare as ts\n",
    "import pandas as pd \n",
    "import numpy as np \n",
    "ts.set_token('7c9f5442e7afbee1c52d71c8f3cc1931af510a048a85580a40530639')\n",
    "pro = ts.pro_api()"
   ]
  },
  {
   "cell_type": "code",
   "execution_count": 28,
   "metadata": {
    "ExecuteTime": {
     "end_time": "2020-11-26T11:09:34.136360Z",
     "start_time": "2020-11-26T11:09:33.344720Z"
    }
   },
   "outputs": [
    {
     "name": "stdout",
     "output_type": "stream",
     "text": [
      "本接口即将停止更新，请尽快使用Pro版接口：https://waditu.com/document/2\n"
     ]
    },
    {
     "data": {
      "text/html": [
       "<div>\n",
       "<style scoped>\n",
       "    .dataframe tbody tr th:only-of-type {\n",
       "        vertical-align: middle;\n",
       "    }\n",
       "\n",
       "    .dataframe tbody tr th {\n",
       "        vertical-align: top;\n",
       "    }\n",
       "\n",
       "    .dataframe thead th {\n",
       "        text-align: right;\n",
       "    }\n",
       "</style>\n",
       "<table border=\"1\" class=\"dataframe\">\n",
       "  <thead>\n",
       "    <tr style=\"text-align: right;\">\n",
       "      <th></th>\n",
       "      <th>date</th>\n",
       "      <th>open</th>\n",
       "      <th>close</th>\n",
       "      <th>high</th>\n",
       "      <th>low</th>\n",
       "      <th>volume</th>\n",
       "      <th>code</th>\n",
       "    </tr>\n",
       "  </thead>\n",
       "  <tbody>\n",
       "    <tr>\n",
       "      <th>238</th>\n",
       "      <td>2014-01-02</td>\n",
       "      <td>2323.43</td>\n",
       "      <td>2321.98</td>\n",
       "      <td>2325.99</td>\n",
       "      <td>2310.65</td>\n",
       "      <td>45194291.0</td>\n",
       "      <td>hs300</td>\n",
       "    </tr>\n",
       "    <tr>\n",
       "      <th>239</th>\n",
       "      <td>2014-01-03</td>\n",
       "      <td>2311.97</td>\n",
       "      <td>2290.78</td>\n",
       "      <td>2314.84</td>\n",
       "      <td>2280.89</td>\n",
       "      <td>59782645.0</td>\n",
       "      <td>hs300</td>\n",
       "    </tr>\n",
       "    <tr>\n",
       "      <th>240</th>\n",
       "      <td>2014-01-06</td>\n",
       "      <td>2286.37</td>\n",
       "      <td>2238.64</td>\n",
       "      <td>2286.37</td>\n",
       "      <td>2229.33</td>\n",
       "      <td>66300403.0</td>\n",
       "      <td>hs300</td>\n",
       "    </tr>\n",
       "    <tr>\n",
       "      <th>241</th>\n",
       "      <td>2014-01-07</td>\n",
       "      <td>2222.31</td>\n",
       "      <td>2238.00</td>\n",
       "      <td>2246.79</td>\n",
       "      <td>2218.65</td>\n",
       "      <td>43753103.0</td>\n",
       "      <td>hs300</td>\n",
       "    </tr>\n",
       "    <tr>\n",
       "      <th>242</th>\n",
       "      <td>2014-01-08</td>\n",
       "      <td>2240.64</td>\n",
       "      <td>2241.91</td>\n",
       "      <td>2262.58</td>\n",
       "      <td>2228.42</td>\n",
       "      <td>51348854.0</td>\n",
       "      <td>hs300</td>\n",
       "    </tr>\n",
       "    <tr>\n",
       "      <th>...</th>\n",
       "      <td>...</td>\n",
       "      <td>...</td>\n",
       "      <td>...</td>\n",
       "      <td>...</td>\n",
       "      <td>...</td>\n",
       "      <td>...</td>\n",
       "      <td>...</td>\n",
       "    </tr>\n",
       "    <tr>\n",
       "      <th>1915</th>\n",
       "      <td>2020-11-20</td>\n",
       "      <td>4928.22</td>\n",
       "      <td>4943.29</td>\n",
       "      <td>4947.43</td>\n",
       "      <td>4922.59</td>\n",
       "      <td>129400341.0</td>\n",
       "      <td>hs300</td>\n",
       "    </tr>\n",
       "    <tr>\n",
       "      <th>1916</th>\n",
       "      <td>2020-11-23</td>\n",
       "      <td>4954.60</td>\n",
       "      <td>5005.03</td>\n",
       "      <td>5029.65</td>\n",
       "      <td>4940.45</td>\n",
       "      <td>205915187.0</td>\n",
       "      <td>hs300</td>\n",
       "    </tr>\n",
       "    <tr>\n",
       "      <th>1917</th>\n",
       "      <td>2020-11-24</td>\n",
       "      <td>4997.05</td>\n",
       "      <td>4974.29</td>\n",
       "      <td>5001.06</td>\n",
       "      <td>4960.98</td>\n",
       "      <td>156637911.0</td>\n",
       "      <td>hs300</td>\n",
       "    </tr>\n",
       "    <tr>\n",
       "      <th>1918</th>\n",
       "      <td>2020-11-25</td>\n",
       "      <td>4992.75</td>\n",
       "      <td>4910.70</td>\n",
       "      <td>5004.77</td>\n",
       "      <td>4910.70</td>\n",
       "      <td>170340527.0</td>\n",
       "      <td>hs300</td>\n",
       "    </tr>\n",
       "    <tr>\n",
       "      <th>1919</th>\n",
       "      <td>2020-11-26</td>\n",
       "      <td>4908.32</td>\n",
       "      <td>4919.59</td>\n",
       "      <td>4925.29</td>\n",
       "      <td>4867.82</td>\n",
       "      <td>137202338.0</td>\n",
       "      <td>hs300</td>\n",
       "    </tr>\n",
       "  </tbody>\n",
       "</table>\n",
       "<p>1682 rows × 7 columns</p>\n",
       "</div>"
      ],
      "text/plain": [
       "            date     open    close     high      low       volume   code\n",
       "238   2014-01-02  2323.43  2321.98  2325.99  2310.65   45194291.0  hs300\n",
       "239   2014-01-03  2311.97  2290.78  2314.84  2280.89   59782645.0  hs300\n",
       "240   2014-01-06  2286.37  2238.64  2286.37  2229.33   66300403.0  hs300\n",
       "241   2014-01-07  2222.31  2238.00  2246.79  2218.65   43753103.0  hs300\n",
       "242   2014-01-08  2240.64  2241.91  2262.58  2228.42   51348854.0  hs300\n",
       "...          ...      ...      ...      ...      ...          ...    ...\n",
       "1915  2020-11-20  4928.22  4943.29  4947.43  4922.59  129400341.0  hs300\n",
       "1916  2020-11-23  4954.60  5005.03  5029.65  4940.45  205915187.0  hs300\n",
       "1917  2020-11-24  4997.05  4974.29  5001.06  4960.98  156637911.0  hs300\n",
       "1918  2020-11-25  4992.75  4910.70  5004.77  4910.70  170340527.0  hs300\n",
       "1919  2020-11-26  4908.32  4919.59  4925.29  4867.82  137202338.0  hs300\n",
       "\n",
       "[1682 rows x 7 columns]"
      ]
     },
     "execution_count": 28,
     "metadata": {},
     "output_type": "execute_result"
    }
   ],
   "source": [
    "\n",
    "data = ts.get_k_data('hs300', start='20130101') # 沪深300 股指\n",
    "data"
   ]
  },
  {
   "cell_type": "code",
   "execution_count": 29,
   "metadata": {
    "ExecuteTime": {
     "end_time": "2020-11-26T11:09:36.836264Z",
     "start_time": "2020-11-26T11:09:36.808194Z"
    }
   },
   "outputs": [],
   "source": [
    "data.to_csv('hs300_dayly.csv')"
   ]
  },
  {
   "cell_type": "code",
   "execution_count": null,
   "metadata": {},
   "outputs": [],
   "source": []
  }
 ],
 "metadata": {
  "kernelspec": {
   "display_name": "Python 3",
   "language": "python",
   "name": "python3"
  },
  "language_info": {
   "codemirror_mode": {
    "name": "ipython",
    "version": 3
   },
   "file_extension": ".py",
   "mimetype": "text/x-python",
   "name": "python",
   "nbconvert_exporter": "python",
   "pygments_lexer": "ipython3",
   "version": "3.8.3"
  },
  "toc": {
   "base_numbering": 1,
   "nav_menu": {},
   "number_sections": true,
   "sideBar": true,
   "skip_h1_title": false,
   "title_cell": "Table of Contents",
   "title_sidebar": "Contents",
   "toc_cell": false,
   "toc_position": {},
   "toc_section_display": true,
   "toc_window_display": false
  }
 },
 "nbformat": 4,
 "nbformat_minor": 4
}
