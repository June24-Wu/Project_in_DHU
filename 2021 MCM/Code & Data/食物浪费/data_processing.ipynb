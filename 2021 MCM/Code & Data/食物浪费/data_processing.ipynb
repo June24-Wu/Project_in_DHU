{
 "cells": [
  {
   "cell_type": "code",
   "execution_count": 17,
   "metadata": {
    "ExecuteTime": {
     "end_time": "2021-02-06T01:29:20.956843Z",
     "start_time": "2021-02-06T01:29:20.938893Z"
    }
   },
   "outputs": [],
   "source": [
    "import pandas as pd \n",
    "import numpy as np \n",
    "from IPython.display import display\n",
    "data = pd.read_csv('waste.csv')\n",
    "data = data.groupby(['Area','Year']).mean()\n",
    "data.to_csv('食品浪费.csv')"
   ]
  },
  {
   "cell_type": "code",
   "execution_count": 6,
   "metadata": {
    "ExecuteTime": {
     "end_time": "2021-02-06T01:16:54.208871Z",
     "start_time": "2021-02-06T01:16:54.076889Z"
    }
   },
   "outputs": [
    {
     "name": "stderr",
     "output_type": "stream",
     "text": [
      "D:\\ANACONDA\\lib\\site-packages\\pandas\\core\\frame.py:4163: SettingWithCopyWarning: \n",
      "A value is trying to be set on a copy of a slice from a DataFrame\n",
      "\n",
      "See the caveats in the documentation: https://pandas.pydata.org/pandas-docs/stable/user_guide/indexing.html#returning-a-view-versus-a-copy\n",
      "  return super().drop(\n"
     ]
    }
   ],
   "source": [
    "all_ = pd.DataFrame()\n",
    "for i in data['Item'].unique():\n",
    "    one_data = data[data['Item']==i]\n",
    "    one_data.drop('Item',axis=1,inplace=True)\n",
    "    one_data.columns = ['Area','Year',i]\n",
    "    one_data.set_index(['Area','Year'],inplace=True)\n",
    "    one_data.to_csv(i +'.csv')"
   ]
  }
 ],
 "metadata": {
  "kernelspec": {
   "display_name": "Python 3",
   "language": "python",
   "name": "python3"
  },
  "language_info": {
   "codemirror_mode": {
    "name": "ipython",
    "version": 3
   },
   "file_extension": ".py",
   "mimetype": "text/x-python",
   "name": "python",
   "nbconvert_exporter": "python",
   "pygments_lexer": "ipython3",
   "version": "3.8.3"
  }
 },
 "nbformat": 4,
 "nbformat_minor": 4
}
