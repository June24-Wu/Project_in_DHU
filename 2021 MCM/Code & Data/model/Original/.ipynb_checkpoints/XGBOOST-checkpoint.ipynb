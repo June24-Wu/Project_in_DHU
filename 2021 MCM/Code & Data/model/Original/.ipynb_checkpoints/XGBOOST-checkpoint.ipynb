{
 "cells": [
  {
   "cell_type": "code",
   "execution_count": 6,
   "metadata": {
    "ExecuteTime": {
     "end_time": "2021-02-07T23:52:00.539191Z",
     "start_time": "2021-02-07T23:51:59.867994Z"
    },
    "scrolled": true
   },
   "outputs": [
    {
     "data": {
      "text/html": [
       "<div>\n",
       "<style scoped>\n",
       "    .dataframe tbody tr th:only-of-type {\n",
       "        vertical-align: middle;\n",
       "    }\n",
       "\n",
       "    .dataframe tbody tr th {\n",
       "        vertical-align: top;\n",
       "    }\n",
       "\n",
       "    .dataframe thead th {\n",
       "        text-align: right;\n",
       "    }\n",
       "</style>\n",
       "<table border=\"1\" class=\"dataframe\">\n",
       "  <thead>\n",
       "    <tr style=\"text-align: right;\">\n",
       "      <th></th>\n",
       "      <th></th>\n",
       "      <th>Total Energy</th>\n",
       "      <th>Fertilizer</th>\n",
       "      <th>Consumption in Agriculture</th>\n",
       "      <th>Government_Management</th>\n",
       "      <th>Law&amp;Political Stability</th>\n",
       "      <th>Unemployment_rate</th>\n",
       "      <th>Yield</th>\n",
       "      <th>Gini_Index</th>\n",
       "      <th>CPI</th>\n",
       "      <th>Male/Female</th>\n",
       "      <th>Rural/Urban</th>\n",
       "      <th>Developed</th>\n",
       "      <th>Score</th>\n",
       "    </tr>\n",
       "    <tr>\n",
       "      <th>Country</th>\n",
       "      <th>Year</th>\n",
       "      <th></th>\n",
       "      <th></th>\n",
       "      <th></th>\n",
       "      <th></th>\n",
       "      <th></th>\n",
       "      <th></th>\n",
       "      <th></th>\n",
       "      <th></th>\n",
       "      <th></th>\n",
       "      <th></th>\n",
       "      <th></th>\n",
       "      <th></th>\n",
       "      <th></th>\n",
       "    </tr>\n",
       "  </thead>\n",
       "  <tbody>\n",
       "    <tr>\n",
       "      <th>Afghanistan</th>\n",
       "      <th>2000</th>\n",
       "      <td>74174.8829</td>\n",
       "      <td>0.64</td>\n",
       "      <td>432.0000</td>\n",
       "      <td>-1.350000</td>\n",
       "      <td>-2.630000</td>\n",
       "      <td>11.517000</td>\n",
       "      <td>57031.55319</td>\n",
       "      <td>29.000000</td>\n",
       "      <td>3.951382e+01</td>\n",
       "      <td>1.059369</td>\n",
       "      <td>3.529414</td>\n",
       "      <td>2</td>\n",
       "      <td>2.815037</td>\n",
       "    </tr>\n",
       "    <tr>\n",
       "      <th>Albania</th>\n",
       "      <th>2000</th>\n",
       "      <td>77392.1087</td>\n",
       "      <td>26.75</td>\n",
       "      <td>33540.0000</td>\n",
       "      <td>-0.560000</td>\n",
       "      <td>-1.030000</td>\n",
       "      <td>16.573000</td>\n",
       "      <td>93010.24194</td>\n",
       "      <td>31.740000</td>\n",
       "      <td>6.660077e+01</td>\n",
       "      <td>1.024432</td>\n",
       "      <td>1.395734</td>\n",
       "      <td>1</td>\n",
       "      <td>3.461113</td>\n",
       "    </tr>\n",
       "    <tr>\n",
       "      <th>Algeria</th>\n",
       "      <th>2000</th>\n",
       "      <td>74132.7500</td>\n",
       "      <td>11.27</td>\n",
       "      <td>0.0000</td>\n",
       "      <td>-1.060000</td>\n",
       "      <td>-0.920000</td>\n",
       "      <td>29.770000</td>\n",
       "      <td>55748.24286</td>\n",
       "      <td>27.620000</td>\n",
       "      <td>5.542482e+01</td>\n",
       "      <td>1.027428</td>\n",
       "      <td>0.668931</td>\n",
       "      <td>1</td>\n",
       "      <td>3.121974</td>\n",
       "    </tr>\n",
       "    <tr>\n",
       "      <th>Angola</th>\n",
       "      <th>2000</th>\n",
       "      <td>74182.8939</td>\n",
       "      <td>0.42</td>\n",
       "      <td>516.0000</td>\n",
       "      <td>-1.520000</td>\n",
       "      <td>-1.180000</td>\n",
       "      <td>3.837000</td>\n",
       "      <td>45371.66667</td>\n",
       "      <td>51.960000</td>\n",
       "      <td>1.812510e+00</td>\n",
       "      <td>0.989632</td>\n",
       "      <td>0.996512</td>\n",
       "      <td>2</td>\n",
       "      <td>1.896367</td>\n",
       "    </tr>\n",
       "    <tr>\n",
       "      <th>Antigua and Barbuda</th>\n",
       "      <th>2000</th>\n",
       "      <td>100294.5043</td>\n",
       "      <td>0.00</td>\n",
       "      <td>282880.2545</td>\n",
       "      <td>1.270000</td>\n",
       "      <td>-2.050000</td>\n",
       "      <td>8.394268</td>\n",
       "      <td>50049.87097</td>\n",
       "      <td>39.583658</td>\n",
       "      <td>7.349858e+01</td>\n",
       "      <td>0.886170</td>\n",
       "      <td>2.112650</td>\n",
       "      <td>1</td>\n",
       "      <td>3.307945</td>\n",
       "    </tr>\n",
       "    <tr>\n",
       "      <th>...</th>\n",
       "      <th>...</th>\n",
       "      <td>...</td>\n",
       "      <td>...</td>\n",
       "      <td>...</td>\n",
       "      <td>...</td>\n",
       "      <td>...</td>\n",
       "      <td>...</td>\n",
       "      <td>...</td>\n",
       "      <td>...</td>\n",
       "      <td>...</td>\n",
       "      <td>...</td>\n",
       "      <td>...</td>\n",
       "      <td>...</td>\n",
       "      <td>...</td>\n",
       "    </tr>\n",
       "    <tr>\n",
       "      <th>Venezuela (Bolivarian Republic of)</th>\n",
       "      <th>2019</th>\n",
       "      <td>81002.4751</td>\n",
       "      <td>139.67</td>\n",
       "      <td>70692.0000</td>\n",
       "      <td>-0.068282</td>\n",
       "      <td>0.245215</td>\n",
       "      <td>6.896713</td>\n",
       "      <td>127383.85510</td>\n",
       "      <td>37.791460</td>\n",
       "      <td>2.633984e+08</td>\n",
       "      <td>0.970604</td>\n",
       "      <td>0.133276</td>\n",
       "      <td>1</td>\n",
       "      <td>0.385091</td>\n",
       "    </tr>\n",
       "    <tr>\n",
       "      <th>Viet Nam</th>\n",
       "      <th>2019</th>\n",
       "      <td>89276.2317</td>\n",
       "      <td>251.76</td>\n",
       "      <td>155832.0000</td>\n",
       "      <td>-0.068282</td>\n",
       "      <td>0.245215</td>\n",
       "      <td>6.896713</td>\n",
       "      <td>101925.65380</td>\n",
       "      <td>37.791460</td>\n",
       "      <td>1.131217e+02</td>\n",
       "      <td>0.996700</td>\n",
       "      <td>1.730120</td>\n",
       "      <td>1</td>\n",
       "      <td>3.296598</td>\n",
       "    </tr>\n",
       "    <tr>\n",
       "      <th>Yemen</th>\n",
       "      <th>2019</th>\n",
       "      <td>76138.5091</td>\n",
       "      <td>3.03</td>\n",
       "      <td>20640.0000</td>\n",
       "      <td>-0.068282</td>\n",
       "      <td>0.245215</td>\n",
       "      <td>6.896713</td>\n",
       "      <td>63858.63077</td>\n",
       "      <td>36.710000</td>\n",
       "      <td>1.844438e+02</td>\n",
       "      <td>1.015387</td>\n",
       "      <td>1.682885</td>\n",
       "      <td>2</td>\n",
       "      <td>2.537962</td>\n",
       "    </tr>\n",
       "    <tr>\n",
       "      <th>Zambia</th>\n",
       "      <th>2019</th>\n",
       "      <td>75235.9175</td>\n",
       "      <td>52.02</td>\n",
       "      <td>11352.0000</td>\n",
       "      <td>-0.700000</td>\n",
       "      <td>0.490000</td>\n",
       "      <td>11.425000</td>\n",
       "      <td>98222.17949</td>\n",
       "      <td>57.140000</td>\n",
       "      <td>1.476608e+02</td>\n",
       "      <td>0.980638</td>\n",
       "      <td>1.269019</td>\n",
       "      <td>2</td>\n",
       "      <td>2.604234</td>\n",
       "    </tr>\n",
       "    <tr>\n",
       "      <th>Zimbabwe</th>\n",
       "      <th>2019</th>\n",
       "      <td>78645.7082</td>\n",
       "      <td>37.41</td>\n",
       "      <td>46440.0000</td>\n",
       "      <td>-1.510000</td>\n",
       "      <td>0.410000</td>\n",
       "      <td>4.954000</td>\n",
       "      <td>59913.22892</td>\n",
       "      <td>40.362500</td>\n",
       "      <td>3.893035e+02</td>\n",
       "      <td>0.911413</td>\n",
       "      <td>2.104625</td>\n",
       "      <td>1</td>\n",
       "      <td>1.902345</td>\n",
       "    </tr>\n",
       "  </tbody>\n",
       "</table>\n",
       "<p>3760 rows × 13 columns</p>\n",
       "</div>"
      ],
      "text/plain": [
       "                                         Total Energy  Fertilizer  \\\n",
       "Country                            Year                             \n",
       "Afghanistan                        2000    74174.8829        0.64   \n",
       "Albania                            2000    77392.1087       26.75   \n",
       "Algeria                            2000    74132.7500       11.27   \n",
       "Angola                             2000    74182.8939        0.42   \n",
       "Antigua and Barbuda                2000   100294.5043        0.00   \n",
       "...                                               ...         ...   \n",
       "Venezuela (Bolivarian Republic of) 2019    81002.4751      139.67   \n",
       "Viet Nam                           2019    89276.2317      251.76   \n",
       "Yemen                              2019    76138.5091        3.03   \n",
       "Zambia                             2019    75235.9175       52.02   \n",
       "Zimbabwe                           2019    78645.7082       37.41   \n",
       "\n",
       "                                         Consumption in Agriculture  \\\n",
       "Country                            Year                               \n",
       "Afghanistan                        2000                    432.0000   \n",
       "Albania                            2000                  33540.0000   \n",
       "Algeria                            2000                      0.0000   \n",
       "Angola                             2000                    516.0000   \n",
       "Antigua and Barbuda                2000                 282880.2545   \n",
       "...                                                             ...   \n",
       "Venezuela (Bolivarian Republic of) 2019                  70692.0000   \n",
       "Viet Nam                           2019                 155832.0000   \n",
       "Yemen                              2019                  20640.0000   \n",
       "Zambia                             2019                  11352.0000   \n",
       "Zimbabwe                           2019                  46440.0000   \n",
       "\n",
       "                                         Government_Management  \\\n",
       "Country                            Year                          \n",
       "Afghanistan                        2000              -1.350000   \n",
       "Albania                            2000              -0.560000   \n",
       "Algeria                            2000              -1.060000   \n",
       "Angola                             2000              -1.520000   \n",
       "Antigua and Barbuda                2000               1.270000   \n",
       "...                                                        ...   \n",
       "Venezuela (Bolivarian Republic of) 2019              -0.068282   \n",
       "Viet Nam                           2019              -0.068282   \n",
       "Yemen                              2019              -0.068282   \n",
       "Zambia                             2019              -0.700000   \n",
       "Zimbabwe                           2019              -1.510000   \n",
       "\n",
       "                                         Law&Political Stability  \\\n",
       "Country                            Year                            \n",
       "Afghanistan                        2000                -2.630000   \n",
       "Albania                            2000                -1.030000   \n",
       "Algeria                            2000                -0.920000   \n",
       "Angola                             2000                -1.180000   \n",
       "Antigua and Barbuda                2000                -2.050000   \n",
       "...                                                          ...   \n",
       "Venezuela (Bolivarian Republic of) 2019                 0.245215   \n",
       "Viet Nam                           2019                 0.245215   \n",
       "Yemen                              2019                 0.245215   \n",
       "Zambia                             2019                 0.490000   \n",
       "Zimbabwe                           2019                 0.410000   \n",
       "\n",
       "                                         Unemployment_rate         Yield  \\\n",
       "Country                            Year                                    \n",
       "Afghanistan                        2000          11.517000   57031.55319   \n",
       "Albania                            2000          16.573000   93010.24194   \n",
       "Algeria                            2000          29.770000   55748.24286   \n",
       "Angola                             2000           3.837000   45371.66667   \n",
       "Antigua and Barbuda                2000           8.394268   50049.87097   \n",
       "...                                                    ...           ...   \n",
       "Venezuela (Bolivarian Republic of) 2019           6.896713  127383.85510   \n",
       "Viet Nam                           2019           6.896713  101925.65380   \n",
       "Yemen                              2019           6.896713   63858.63077   \n",
       "Zambia                             2019          11.425000   98222.17949   \n",
       "Zimbabwe                           2019           4.954000   59913.22892   \n",
       "\n",
       "                                         Gini_Index           CPI  \\\n",
       "Country                            Year                             \n",
       "Afghanistan                        2000   29.000000  3.951382e+01   \n",
       "Albania                            2000   31.740000  6.660077e+01   \n",
       "Algeria                            2000   27.620000  5.542482e+01   \n",
       "Angola                             2000   51.960000  1.812510e+00   \n",
       "Antigua and Barbuda                2000   39.583658  7.349858e+01   \n",
       "...                                             ...           ...   \n",
       "Venezuela (Bolivarian Republic of) 2019   37.791460  2.633984e+08   \n",
       "Viet Nam                           2019   37.791460  1.131217e+02   \n",
       "Yemen                              2019   36.710000  1.844438e+02   \n",
       "Zambia                             2019   57.140000  1.476608e+02   \n",
       "Zimbabwe                           2019   40.362500  3.893035e+02   \n",
       "\n",
       "                                         Male/Female  Rural/Urban  Developed  \\\n",
       "Country                            Year                                        \n",
       "Afghanistan                        2000     1.059369     3.529414          2   \n",
       "Albania                            2000     1.024432     1.395734          1   \n",
       "Algeria                            2000     1.027428     0.668931          1   \n",
       "Angola                             2000     0.989632     0.996512          2   \n",
       "Antigua and Barbuda                2000     0.886170     2.112650          1   \n",
       "...                                              ...          ...        ...   \n",
       "Venezuela (Bolivarian Republic of) 2019     0.970604     0.133276          1   \n",
       "Viet Nam                           2019     0.996700     1.730120          1   \n",
       "Yemen                              2019     1.015387     1.682885          2   \n",
       "Zambia                             2019     0.980638     1.269019          2   \n",
       "Zimbabwe                           2019     0.911413     2.104625          1   \n",
       "\n",
       "                                            Score  \n",
       "Country                            Year            \n",
       "Afghanistan                        2000  2.815037  \n",
       "Albania                            2000  3.461113  \n",
       "Algeria                            2000  3.121974  \n",
       "Angola                             2000  1.896367  \n",
       "Antigua and Barbuda                2000  3.307945  \n",
       "...                                           ...  \n",
       "Venezuela (Bolivarian Republic of) 2019  0.385091  \n",
       "Viet Nam                           2019  3.296598  \n",
       "Yemen                              2019  2.537962  \n",
       "Zambia                             2019  2.604234  \n",
       "Zimbabwe                           2019  1.902345  \n",
       "\n",
       "[3760 rows x 13 columns]"
      ]
     },
     "execution_count": 6,
     "metadata": {},
     "output_type": "execute_result"
    }
   ],
   "source": [
    "import pandas as pd \n",
    "import numpy as np \n",
    "import matplotlib.pyplot as plt\n",
    "import seaborn as sns\n",
    "from IPython.display import display\n",
    "from warnings import filterwarnings\n",
    "filterwarnings('ignore')\n",
    "data = pd.read_excel('regression.xlsx')\n",
    "year_list = data['Year'].unique().tolist()\n",
    "country_list = data['Country'].unique().tolist()\n",
    "data.set_index(['Country','Year'],inplace=True)\n",
    "# score = pd.read_csv('topsis_original.csv')\n",
    "# score.set_index(['Country','Year'],inplace=True)\n",
    "# score = pd.DataFrame(score['Score'])\n",
    "# data = pd.concat([data,score],axis=1)\n",
    "data"
   ]
  },
  {
   "cell_type": "code",
   "execution_count": 8,
   "metadata": {
    "ExecuteTime": {
     "end_time": "2021-02-07T23:52:11.852128Z",
     "start_time": "2021-02-07T23:52:11.846143Z"
    }
   },
   "outputs": [],
   "source": [
    "# 归一化\n",
    "X = data.drop(['Score','CPI','Consumption in Agriculture'],axis=1)\n",
    "# X = data.drop(['Score'],axis=1)\n",
    "Y = data['Score']\n",
    "# from sklearn.preprocessing import MinMaxScaler\n",
    "# scaler = MinMaxScaler(feature_range=(0, 1))  \n",
    "# scaled_data = scaler.fit_transform(X)\n",
    "# X = pd.DataFrame(scaled_data,index=X.index,columns=X.columns)\n",
    "# print('X_Sclaer.shape: ',X.shape)\n",
    "# data = pd.concat([X,Y],axis=1)\n",
    "# data"
   ]
  },
  {
   "cell_type": "code",
   "execution_count": 9,
   "metadata": {
    "ExecuteTime": {
     "end_time": "2021-02-07T23:52:15.489412Z",
     "start_time": "2021-02-07T23:52:14.290023Z"
    }
   },
   "outputs": [
    {
     "data": {
      "text/plain": [
       "Country                             Year\n",
       "Afghanistan                         2000    2.815037\n",
       "Albania                             2000    3.461113\n",
       "Algeria                             2000    3.121974\n",
       "Angola                              2000    1.896367\n",
       "Antigua and Barbuda                 2000    3.307945\n",
       "                                              ...   \n",
       "Venezuela (Bolivarian Republic of)  2019    0.385091\n",
       "Viet Nam                            2019    3.296598\n",
       "Yemen                               2019    2.537962\n",
       "Zambia                              2019    2.604234\n",
       "Zimbabwe                            2019    1.902345\n",
       "Name: Score, Length: 3760, dtype: float64"
      ]
     },
     "metadata": {},
     "output_type": "display_data"
    },
    {
     "data": {
      "text/html": [
       "<div>\n",
       "<style scoped>\n",
       "    .dataframe tbody tr th:only-of-type {\n",
       "        vertical-align: middle;\n",
       "    }\n",
       "\n",
       "    .dataframe tbody tr th {\n",
       "        vertical-align: top;\n",
       "    }\n",
       "\n",
       "    .dataframe thead th {\n",
       "        text-align: right;\n",
       "    }\n",
       "</style>\n",
       "<table border=\"1\" class=\"dataframe\">\n",
       "  <thead>\n",
       "    <tr style=\"text-align: right;\">\n",
       "      <th></th>\n",
       "      <th></th>\n",
       "      <th>Total Energy</th>\n",
       "      <th>Fertilizer</th>\n",
       "      <th>Government_Management</th>\n",
       "      <th>Law&amp;Political Stability</th>\n",
       "      <th>Unemployment_rate</th>\n",
       "      <th>Yield</th>\n",
       "      <th>Gini_Index</th>\n",
       "      <th>Male/Female</th>\n",
       "      <th>Rural/Urban</th>\n",
       "      <th>Developed</th>\n",
       "    </tr>\n",
       "    <tr>\n",
       "      <th>Country</th>\n",
       "      <th>Year</th>\n",
       "      <th></th>\n",
       "      <th></th>\n",
       "      <th></th>\n",
       "      <th></th>\n",
       "      <th></th>\n",
       "      <th></th>\n",
       "      <th></th>\n",
       "      <th></th>\n",
       "      <th></th>\n",
       "      <th></th>\n",
       "    </tr>\n",
       "  </thead>\n",
       "  <tbody>\n",
       "    <tr>\n",
       "      <th>Afghanistan</th>\n",
       "      <th>2000</th>\n",
       "      <td>74174.8829</td>\n",
       "      <td>0.64</td>\n",
       "      <td>-1.350000</td>\n",
       "      <td>-2.630000</td>\n",
       "      <td>11.517000</td>\n",
       "      <td>57031.55319</td>\n",
       "      <td>29.000000</td>\n",
       "      <td>1.059369</td>\n",
       "      <td>3.529414</td>\n",
       "      <td>2</td>\n",
       "    </tr>\n",
       "    <tr>\n",
       "      <th>Albania</th>\n",
       "      <th>2000</th>\n",
       "      <td>77392.1087</td>\n",
       "      <td>26.75</td>\n",
       "      <td>-0.560000</td>\n",
       "      <td>-1.030000</td>\n",
       "      <td>16.573000</td>\n",
       "      <td>93010.24194</td>\n",
       "      <td>31.740000</td>\n",
       "      <td>1.024432</td>\n",
       "      <td>1.395734</td>\n",
       "      <td>1</td>\n",
       "    </tr>\n",
       "    <tr>\n",
       "      <th>Algeria</th>\n",
       "      <th>2000</th>\n",
       "      <td>74132.7500</td>\n",
       "      <td>11.27</td>\n",
       "      <td>-1.060000</td>\n",
       "      <td>-0.920000</td>\n",
       "      <td>29.770000</td>\n",
       "      <td>55748.24286</td>\n",
       "      <td>27.620000</td>\n",
       "      <td>1.027428</td>\n",
       "      <td>0.668931</td>\n",
       "      <td>1</td>\n",
       "    </tr>\n",
       "    <tr>\n",
       "      <th>Angola</th>\n",
       "      <th>2000</th>\n",
       "      <td>74182.8939</td>\n",
       "      <td>0.42</td>\n",
       "      <td>-1.520000</td>\n",
       "      <td>-1.180000</td>\n",
       "      <td>3.837000</td>\n",
       "      <td>45371.66667</td>\n",
       "      <td>51.960000</td>\n",
       "      <td>0.989632</td>\n",
       "      <td>0.996512</td>\n",
       "      <td>2</td>\n",
       "    </tr>\n",
       "    <tr>\n",
       "      <th>Antigua and Barbuda</th>\n",
       "      <th>2000</th>\n",
       "      <td>100294.5043</td>\n",
       "      <td>0.00</td>\n",
       "      <td>1.270000</td>\n",
       "      <td>-2.050000</td>\n",
       "      <td>8.394268</td>\n",
       "      <td>50049.87097</td>\n",
       "      <td>39.583658</td>\n",
       "      <td>0.886170</td>\n",
       "      <td>2.112650</td>\n",
       "      <td>1</td>\n",
       "    </tr>\n",
       "    <tr>\n",
       "      <th>...</th>\n",
       "      <th>...</th>\n",
       "      <td>...</td>\n",
       "      <td>...</td>\n",
       "      <td>...</td>\n",
       "      <td>...</td>\n",
       "      <td>...</td>\n",
       "      <td>...</td>\n",
       "      <td>...</td>\n",
       "      <td>...</td>\n",
       "      <td>...</td>\n",
       "      <td>...</td>\n",
       "    </tr>\n",
       "    <tr>\n",
       "      <th>Venezuela (Bolivarian Republic of)</th>\n",
       "      <th>2019</th>\n",
       "      <td>81002.4751</td>\n",
       "      <td>139.67</td>\n",
       "      <td>-0.068282</td>\n",
       "      <td>0.245215</td>\n",
       "      <td>6.896713</td>\n",
       "      <td>127383.85510</td>\n",
       "      <td>37.791460</td>\n",
       "      <td>0.970604</td>\n",
       "      <td>0.133276</td>\n",
       "      <td>1</td>\n",
       "    </tr>\n",
       "    <tr>\n",
       "      <th>Viet Nam</th>\n",
       "      <th>2019</th>\n",
       "      <td>89276.2317</td>\n",
       "      <td>251.76</td>\n",
       "      <td>-0.068282</td>\n",
       "      <td>0.245215</td>\n",
       "      <td>6.896713</td>\n",
       "      <td>101925.65380</td>\n",
       "      <td>37.791460</td>\n",
       "      <td>0.996700</td>\n",
       "      <td>1.730120</td>\n",
       "      <td>1</td>\n",
       "    </tr>\n",
       "    <tr>\n",
       "      <th>Yemen</th>\n",
       "      <th>2019</th>\n",
       "      <td>76138.5091</td>\n",
       "      <td>3.03</td>\n",
       "      <td>-0.068282</td>\n",
       "      <td>0.245215</td>\n",
       "      <td>6.896713</td>\n",
       "      <td>63858.63077</td>\n",
       "      <td>36.710000</td>\n",
       "      <td>1.015387</td>\n",
       "      <td>1.682885</td>\n",
       "      <td>2</td>\n",
       "    </tr>\n",
       "    <tr>\n",
       "      <th>Zambia</th>\n",
       "      <th>2019</th>\n",
       "      <td>75235.9175</td>\n",
       "      <td>52.02</td>\n",
       "      <td>-0.700000</td>\n",
       "      <td>0.490000</td>\n",
       "      <td>11.425000</td>\n",
       "      <td>98222.17949</td>\n",
       "      <td>57.140000</td>\n",
       "      <td>0.980638</td>\n",
       "      <td>1.269019</td>\n",
       "      <td>2</td>\n",
       "    </tr>\n",
       "    <tr>\n",
       "      <th>Zimbabwe</th>\n",
       "      <th>2019</th>\n",
       "      <td>78645.7082</td>\n",
       "      <td>37.41</td>\n",
       "      <td>-1.510000</td>\n",
       "      <td>0.410000</td>\n",
       "      <td>4.954000</td>\n",
       "      <td>59913.22892</td>\n",
       "      <td>40.362500</td>\n",
       "      <td>0.911413</td>\n",
       "      <td>2.104625</td>\n",
       "      <td>1</td>\n",
       "    </tr>\n",
       "  </tbody>\n",
       "</table>\n",
       "<p>3760 rows × 10 columns</p>\n",
       "</div>"
      ],
      "text/plain": [
       "                                         Total Energy  Fertilizer  \\\n",
       "Country                            Year                             \n",
       "Afghanistan                        2000    74174.8829        0.64   \n",
       "Albania                            2000    77392.1087       26.75   \n",
       "Algeria                            2000    74132.7500       11.27   \n",
       "Angola                             2000    74182.8939        0.42   \n",
       "Antigua and Barbuda                2000   100294.5043        0.00   \n",
       "...                                               ...         ...   \n",
       "Venezuela (Bolivarian Republic of) 2019    81002.4751      139.67   \n",
       "Viet Nam                           2019    89276.2317      251.76   \n",
       "Yemen                              2019    76138.5091        3.03   \n",
       "Zambia                             2019    75235.9175       52.02   \n",
       "Zimbabwe                           2019    78645.7082       37.41   \n",
       "\n",
       "                                         Government_Management  \\\n",
       "Country                            Year                          \n",
       "Afghanistan                        2000              -1.350000   \n",
       "Albania                            2000              -0.560000   \n",
       "Algeria                            2000              -1.060000   \n",
       "Angola                             2000              -1.520000   \n",
       "Antigua and Barbuda                2000               1.270000   \n",
       "...                                                        ...   \n",
       "Venezuela (Bolivarian Republic of) 2019              -0.068282   \n",
       "Viet Nam                           2019              -0.068282   \n",
       "Yemen                              2019              -0.068282   \n",
       "Zambia                             2019              -0.700000   \n",
       "Zimbabwe                           2019              -1.510000   \n",
       "\n",
       "                                         Law&Political Stability  \\\n",
       "Country                            Year                            \n",
       "Afghanistan                        2000                -2.630000   \n",
       "Albania                            2000                -1.030000   \n",
       "Algeria                            2000                -0.920000   \n",
       "Angola                             2000                -1.180000   \n",
       "Antigua and Barbuda                2000                -2.050000   \n",
       "...                                                          ...   \n",
       "Venezuela (Bolivarian Republic of) 2019                 0.245215   \n",
       "Viet Nam                           2019                 0.245215   \n",
       "Yemen                              2019                 0.245215   \n",
       "Zambia                             2019                 0.490000   \n",
       "Zimbabwe                           2019                 0.410000   \n",
       "\n",
       "                                         Unemployment_rate         Yield  \\\n",
       "Country                            Year                                    \n",
       "Afghanistan                        2000          11.517000   57031.55319   \n",
       "Albania                            2000          16.573000   93010.24194   \n",
       "Algeria                            2000          29.770000   55748.24286   \n",
       "Angola                             2000           3.837000   45371.66667   \n",
       "Antigua and Barbuda                2000           8.394268   50049.87097   \n",
       "...                                                    ...           ...   \n",
       "Venezuela (Bolivarian Republic of) 2019           6.896713  127383.85510   \n",
       "Viet Nam                           2019           6.896713  101925.65380   \n",
       "Yemen                              2019           6.896713   63858.63077   \n",
       "Zambia                             2019          11.425000   98222.17949   \n",
       "Zimbabwe                           2019           4.954000   59913.22892   \n",
       "\n",
       "                                         Gini_Index  Male/Female  Rural/Urban  \\\n",
       "Country                            Year                                         \n",
       "Afghanistan                        2000   29.000000     1.059369     3.529414   \n",
       "Albania                            2000   31.740000     1.024432     1.395734   \n",
       "Algeria                            2000   27.620000     1.027428     0.668931   \n",
       "Angola                             2000   51.960000     0.989632     0.996512   \n",
       "Antigua and Barbuda                2000   39.583658     0.886170     2.112650   \n",
       "...                                             ...          ...          ...   \n",
       "Venezuela (Bolivarian Republic of) 2019   37.791460     0.970604     0.133276   \n",
       "Viet Nam                           2019   37.791460     0.996700     1.730120   \n",
       "Yemen                              2019   36.710000     1.015387     1.682885   \n",
       "Zambia                             2019   57.140000     0.980638     1.269019   \n",
       "Zimbabwe                           2019   40.362500     0.911413     2.104625   \n",
       "\n",
       "                                         Developed  \n",
       "Country                            Year             \n",
       "Afghanistan                        2000          2  \n",
       "Albania                            2000          1  \n",
       "Algeria                            2000          1  \n",
       "Angola                             2000          2  \n",
       "Antigua and Barbuda                2000          1  \n",
       "...                                            ...  \n",
       "Venezuela (Bolivarian Republic of) 2019          1  \n",
       "Viet Nam                           2019          1  \n",
       "Yemen                              2019          2  \n",
       "Zambia                             2019          2  \n",
       "Zimbabwe                           2019          1  \n",
       "\n",
       "[3760 rows x 10 columns]"
      ]
     },
     "metadata": {},
     "output_type": "display_data"
    },
    {
     "data": {
      "image/png": "[encoded data removed]",
      "text/plain": [
       "<Figure size 432x288 with 2 Axes>"
      ]
     },
     "metadata": {
      "needs_background": "light"
     },
     "output_type": "display_data"
    }
   ],
   "source": [
    "sns.heatmap(X.corr(), annot=True,cmap='YlGnBu')\n",
    "display(Y)\n",
    "display(X)"
   ]
  },
  {
   "cell_type": "code",
   "execution_count": 10,
   "metadata": {
    "ExecuteTime": {
     "end_time": "2021-02-07T23:52:28.093676Z",
     "start_time": "2021-02-07T23:52:22.534098Z"
    }
   },
   "outputs": [],
   "source": [
    "from xgboost import XGBRegressor as XGBR\n",
    "from sklearn.ensemble import RandomForestRegressor as RFR\n",
    "from sklearn.linear_model import LinearRegression as LinearR\n",
    "from sklearn.datasets import load_boston\n",
    "from sklearn.model_selection import KFold, cross_val_score as CVS, train_test_split as TTS\n",
    "from sklearn.metrics import mean_squared_error as MSE\n",
    "import pandas as pd\n",
    "import numpy as np\n",
    "import matplotlib.pyplot as plt\n",
    "from time import time\n",
    "import datetime\n",
    "\n",
    "rfr = RFR(\n",
    "#             n_estimators=400\n",
    "#             ,n_jobs=2,max_depth=16\n",
    "#             ,max_features=2\n",
    "#             ,min_samples_split=7\n",
    "#             ,min_samples_leaf = 1 \n",
    "#             ,random_state=420\n",
    "        ) \n",
    "reg = XGBR(n_estimators=10)"
   ]
  },
  {
   "cell_type": "code",
   "execution_count": 11,
   "metadata": {
    "ExecuteTime": {
     "end_time": "2021-02-07T23:52:28.125480Z",
     "start_time": "2021-02-07T23:52:28.099551Z"
    }
   },
   "outputs": [
    {
     "data": {
      "text/plain": [
       "(3008, 10)"
      ]
     },
     "execution_count": 11,
     "metadata": {},
     "output_type": "execute_result"
    }
   ],
   "source": [
    "x = data.drop('Score',axis=1)\n",
    "y = data['Score']\n",
    "from sklearn.model_selection import train_test_split\n",
    "\n",
    "Xtrain,Xtest,Ytrain,Ytest= train_test_split(X,Y,\n",
    "                                                test_size=0.2,\n",
    "                                                random_state=420)\n",
    "Xtrain.shape"
   ]
  },
  {
   "cell_type": "code",
   "execution_count": 119,
   "metadata": {
    "ExecuteTime": {
     "end_time": "2021-02-07T01:44:50.415269Z",
     "start_time": "2021-02-07T01:44:40.055762Z"
    }
   },
   "outputs": [
    {
     "data": {
      "text/plain": [
       "0.47982052654550567"
      ]
     },
     "execution_count": 119,
     "metadata": {},
     "output_type": "execute_result"
    }
   ],
   "source": [
    "CVS(rfr,X,Y,cv=5).mean()#0.7975497480638329"
   ]
  },
  {
   "cell_type": "code",
   "execution_count": 12,
   "metadata": {
    "ExecuteTime": {
     "end_time": "2021-02-07T23:52:30.038035Z",
     "start_time": "2021-02-07T23:52:29.418232Z"
    }
   },
   "outputs": [
    {
     "data": {
      "text/plain": [
       "0.24423397030127356"
      ]
     },
     "execution_count": 12,
     "metadata": {},
     "output_type": "execute_result"
    }
   ],
   "source": [
    "CVS(reg,X,Y,cv=5).mean()#0.7975497480638329"
   ]
  },
  {
   "cell_type": "code",
   "execution_count": 14,
   "metadata": {
    "ExecuteTime": {
     "end_time": "2021-02-07T23:52:48.465594Z",
     "start_time": "2021-02-07T23:52:48.455620Z"
    }
   },
   "outputs": [],
   "source": [
    "def plot_learning_curve(estimator,title, X, y, \n",
    "                        ax=None, #选择子图\n",
    "                        ylim=None, #设置纵坐标的取值范围\n",
    "                        cv=None, #交叉验证\n",
    "                        n_jobs=None #设定索要使用的线程\n",
    "                       ):\n",
    "    \n",
    "    from sklearn.model_selection import learning_curve\n",
    "    import matplotlib.pyplot as plt\n",
    "    import numpy as np\n",
    "    \n",
    "    train_sizes, train_scores, test_scores = learning_curve(estimator, X, y\n",
    "                                                            ,shuffle=True\n",
    "                                                            ,cv=cv\n",
    "                                                            ,random_state=420\n",
    "                                                            ,n_jobs=n_jobs)      \n",
    "    if ax == None:\n",
    "        ax = plt.gca()\n",
    "    else:\n",
    "        ax = plt.figure()\n",
    "    ax.set_title(title)\n",
    "    if ylim is not None:\n",
    "        ax.set_ylim(*ylim)\n",
    "    ax.set_xlabel(\"Training examples\")\n",
    "    ax.set_ylabel(\"Score\")\n",
    "    ax.grid() #绘制网格，不是必须\n",
    "    ax.plot(train_sizes, np.mean(train_scores, axis=1), 'o-'\n",
    "            , color=\"r\",label=\"Training score\")\n",
    "    ax.plot(train_sizes, np.mean(test_scores, axis=1), 'o-'\n",
    "            , color=\"g\",label=\"Test score\")\n",
    "    ax.legend(loc=\"best\")\n",
    "    return ax\n",
    "cv = KFold(n_splits=5, shuffle = True, random_state=42) #交叉验证模式"
   ]
  },
  {
   "cell_type": "code",
   "execution_count": 144,
   "metadata": {
    "ExecuteTime": {
     "end_time": "2021-02-07T02:03:17.257565Z",
     "start_time": "2021-02-07T02:03:16.414466Z"
    }
   },
   "outputs": [
    {
     "data": {
      "image/png": "[encoded data removed]",
      "text/plain": [
       "<Figure size 432x288 with 1 Axes>"
      ]
     },
     "metadata": {
      "needs_background": "light"
     },
     "output_type": "display_data"
    }
   ],
   "source": [
    "plot_learning_curve(reg\n",
    "                    ,\"XGB\",X,Y,ax=None,cv=cv)\n",
    "plt.show()"
   ]
  },
  {
   "cell_type": "code",
   "execution_count": 145,
   "metadata": {
    "ExecuteTime": {
     "end_time": "2021-02-07T02:03:21.893614Z",
     "start_time": "2021-02-07T02:03:21.877658Z"
    }
   },
   "outputs": [
    {
     "ename": "TypeError",
     "evalue": "'XGBRegressor' object is not callable",
     "output_type": "error",
     "traceback": [
      "\u001b[1;31m---------------------------------------------------------------------------\u001b[0m",
      "\u001b[1;31mTypeError\u001b[0m                                 Traceback (most recent call last)",
      "\u001b[1;32m<ipython-input-145-c8acf5d986bf>\u001b[0m in \u001b[0;36m<module>\u001b[1;34m\u001b[0m\n\u001b[0;32m      4\u001b[0m \u001b[0mrs\u001b[0m \u001b[1;33m=\u001b[0m \u001b[1;33m[\u001b[0m\u001b[1;33m]\u001b[0m\u001b[1;33m\u001b[0m\u001b[1;33m\u001b[0m\u001b[0m\n\u001b[0;32m      5\u001b[0m \u001b[1;32mfor\u001b[0m \u001b[0mi\u001b[0m \u001b[1;32min\u001b[0m \u001b[0maxisx\u001b[0m\u001b[1;33m:\u001b[0m\u001b[1;33m\u001b[0m\u001b[1;33m\u001b[0m\u001b[0m\n\u001b[1;32m----> 6\u001b[1;33m     reg = reg(n_estimators=i,\n\u001b[0m\u001b[0;32m      7\u001b[0m                \u001b[0mmax_depth\u001b[0m \u001b[1;33m=\u001b[0m \u001b[1;36m8\u001b[0m \u001b[1;33m,\u001b[0m\u001b[1;33m\u001b[0m\u001b[1;33m\u001b[0m\u001b[0m\n\u001b[0;32m      8\u001b[0m \u001b[1;31m#                subsample=i ,\u001b[0m\u001b[1;33m\u001b[0m\u001b[1;33m\u001b[0m\u001b[1;33m\u001b[0m\u001b[0m\n",
      "\u001b[1;31mTypeError\u001b[0m: 'XGBRegressor' object is not callable"
     ]
    }
   ],
   "source": [
    "#=====【TIME WARNING：25 seconds】=====#\n",
    "\n",
    "axisx = range(50,600,50)\n",
    "rs = []\n",
    "for i in axisx:\n",
    "    reg = reg(n_estimators=i,\n",
    "               max_depth = 8 ,\n",
    "#                subsample=i ,\n",
    "               random_state=420)\n",
    "    score = CVS(reg,X,Y,cv=cv).mean()\n",
    "    rs.append(score)\n",
    "    print(score)\n",
    "print(axisx[rs.index(max(rs))],max(rs))\n",
    "plt.figure(figsize=(20,5))\n",
    "plt.plot(axisx,rs,c=\"red\",label=\"XGB\")\n",
    "plt.legend()\n",
    "plt.show()"
   ]
  },
  {
   "cell_type": "code",
   "execution_count": 148,
   "metadata": {
    "ExecuteTime": {
     "end_time": "2021-02-07T02:08:47.479856Z",
     "start_time": "2021-02-07T02:08:46.437125Z"
    }
   },
   "outputs": [
    {
     "name": "stdout",
     "output_type": "stream",
     "text": [
      "0     -14.989584862950284\n",
      "0 -14.989584862950284 0.9462545287221689\n",
      "0 -14.989584862950284 0.9462545287221689\n",
      "0 -14.989584862950284 0.9462545287221689 256.61307861821103\n"
     ]
    },
    {
     "data": {
      "image/png": "[encoded data removed]",
      "text/plain": [
       "<Figure size 1440x360 with 1 Axes>"
      ]
     },
     "metadata": {
      "needs_background": "light"
     },
     "output_type": "display_data"
    }
   ],
   "source": [
    "#======【TIME WARNING: 20s】=======#\n",
    "axisx = range(0,1,20)\n",
    "rs = []\n",
    "var = []\n",
    "ge = []\n",
    "for i in axisx:\n",
    "    reg = XGBR(n_estimators=460,subsample=i,random_state=420)\n",
    "    cvresult = CVS(reg,X,Y,cv=cv)\n",
    "    #记录1-偏差\n",
    "    rs.append(cvresult.mean())\n",
    "    #记录方差\n",
    "    var.append(cvresult.var())\n",
    "    #计算泛化误差的可控部分\n",
    "    ge.append((1 - cvresult.mean())**2+cvresult.var())\n",
    "    print(i ,'   ' , cvresult.mean())\n",
    "#打印R2最高所对应的参数取值，并打印这个参数下的方差\n",
    "print(axisx[rs.index(max(rs))],max(rs),var[rs.index(max(rs))])\n",
    "#打印方差最低时对应的参数取值，并打印这个参数下的R2\n",
    "print(axisx[var.index(min(var))],rs[var.index(min(var))],min(var))\n",
    "#打印泛化误差可控部分的参数取值，并打印这个参数下的R2，方差以及泛化误差的可控部分\n",
    "print(axisx[ge.index(min(ge))],rs[ge.index(min(ge))],var[ge.index(min(ge))],min(ge))\n",
    "plt.figure(figsize=(20,5))\n",
    "plt.plot(axisx,rs,c=\"red\",label=\"XGB\")\n",
    "plt.legend()\n",
    "plt.show()"
   ]
  },
  {
   "cell_type": "code",
   "execution_count": 150,
   "metadata": {
    "ExecuteTime": {
     "end_time": "2021-02-07T02:11:18.138675Z",
     "start_time": "2021-02-07T02:09:34.016902Z"
    }
   },
   "outputs": [
    {
     "name": "stdout",
     "output_type": "stream",
     "text": [
      "0.8421052631578947 0.736079158397305\n"
     ]
    },
    {
     "data": {
      "image/png": "[encoded data removed]",
      "text/plain": [
       "<Figure size 1440x360 with 1 Axes>"
      ]
     },
     "metadata": {
      "needs_background": "light"
     },
     "output_type": "display_data"
    }
   ],
   "source": [
    "axisx = np.linspace(0,1,20)\n",
    "rs = []\n",
    "for i in axisx:\n",
    "    reg = XGBR(n_estimators=460,subsample=i,random_state=420)\n",
    "    rs.append(CVS(reg,X,Y,cv=cv).mean())\n",
    "print(axisx[rs.index(max(rs))],max(rs))\n",
    "plt.figure(figsize=(20,5))\n",
    "plt.plot(axisx,rs,c=\"green\",label=\"XGB\")\n",
    "plt.legend()\n",
    "plt.show()"
   ]
  },
  {
   "cell_type": "code",
   "execution_count": 158,
   "metadata": {
    "ExecuteTime": {
     "end_time": "2021-02-07T02:18:24.823302Z",
     "start_time": "2021-02-07T02:18:24.815324Z"
    }
   },
   "outputs": [],
   "source": [
    "#首先我们先来定义一个评分函数，这个评分函数能够帮助我们直接打印Xtrain上的交叉验证结果\n",
    "def regassess(reg,Xtrain,Ytrain,cv,scoring = [\"r2\"],show=True):\n",
    "    score = []\n",
    "    for i in range(len(scoring)):\n",
    "        if show:\n",
    "            print(\"{}:{:.2f}\".format(scoring[i] #模型评估指标的名字\n",
    "                                     ,CVS(reg\n",
    "                                          ,Xtrain,Ytrain\n",
    "                                          ,cv=cv,scoring=scoring[i]).mean()))\n",
    "        score.append(CVS(reg,Xtrain,Ytrain,cv=cv,scoring=scoring[i]).mean())\n",
    "    return score"
   ]
  },
  {
   "cell_type": "code",
   "execution_count": 160,
   "metadata": {
    "ExecuteTime": {
     "end_time": "2021-02-07T02:19:01.538990Z",
     "start_time": "2021-02-07T02:18:54.216318Z"
    }
   },
   "outputs": [
    {
     "data": {
      "text/plain": [
       "[0.5200888205042101, -0.2011673257085648]"
      ]
     },
     "execution_count": 160,
     "metadata": {},
     "output_type": "execute_result"
    }
   ],
   "source": [
    "reg = XGBR(n_estimators=460,\n",
    "               random_state=420,\n",
    "               subsample= 0.2)\n",
    "regassess(reg,Xtrain,Ytrain,cv,scoring = [\"r2\",\"neg_mean_squared_error\"])"
   ]
  },
  {
   "cell_type": "code",
   "execution_count": 161,
   "metadata": {
    "ExecuteTime": {
     "end_time": "2021-02-07T02:21:34.709680Z",
     "start_time": "2021-02-07T02:19:01.540985Z"
    }
   },
   "outputs": [
    {
     "name": "stdout",
     "output_type": "stream",
     "text": [
      "0.05 0.6905042054014378\n"
     ]
    },
    {
     "data": {
      "image/png": "[encoded data removed]",
      "text/plain": [
       "<Figure size 1440x360 with 1 Axes>"
      ]
     },
     "metadata": {
      "needs_background": "light"
     },
     "output_type": "display_data"
    }
   ],
   "source": [
    "axisx = np.arange(0.05,1,0.05)\n",
    "rs = []\n",
    "te = []\n",
    "for i in axisx:\n",
    "    reg = XGBR(n_estimators=460,\n",
    "               random_state=420,\n",
    "               subsample= 0.2 , \n",
    "               learning_rate=i)\n",
    "    score = regassess(reg,Xtrain,Ytrain,cv,scoring = [\"r2\",\"neg_mean_squared_error\"],show=False)\n",
    "    test = reg.fit(Xtrain,Ytrain).score(Xtest,Ytest)\n",
    "    rs.append(score[0])\n",
    "    te.append(test)\n",
    "print(axisx[rs.index(max(rs))],max(rs))\n",
    "plt.figure(figsize=(20,5))\n",
    "plt.plot(axisx,te,c=\"gray\",label=\"test\")\n",
    "plt.plot(axisx,rs,c=\"green\",label=\"train\")\n",
    "plt.legend()\n",
    "plt.show()"
   ]
  },
  {
   "cell_type": "code",
   "execution_count": 8,
   "metadata": {
    "ExecuteTime": {
     "end_time": "2021-02-07T09:10:24.817304Z",
     "start_time": "2021-02-07T09:10:13.662465Z"
    }
   },
   "outputs": [
    {
     "name": "stdout",
     "output_type": "stream",
     "text": [
      "booster:  gbtree\n",
      "accuracy:  0.7684116488732748\n",
      "time cost 1.3254525661468506 s\n",
      " \n",
      "-----------------\n",
      "booster:  gblinear\n",
      "accuracy:  0.07178261862511659\n",
      "time cost 0.11668705940246582 s\n",
      " \n",
      "-----------------\n",
      "booster:  dart\n",
      "accuracy:  0.7684116321724792\n",
      "time cost 9.683269739151001 s\n",
      " \n",
      "-----------------\n"
     ]
    }
   ],
   "source": [
    "import time\n",
    "for booster in [\"gbtree\",\"gblinear\",\"dart\"]:\n",
    "    time_start=time.time()\n",
    "\n",
    "\n",
    "    reg = XGBR(n_estimators=460\n",
    "               ,learning_rate=0.1\n",
    "#                ,subsample= 0.2\n",
    "               ,random_state=420\n",
    "               ,booster=booster).fit(Xtrain,Ytrain)\n",
    "    time_end=time.time()\n",
    "    print('booster: ',booster)\n",
    "    print('accuracy: ',reg.score(Xtest,Ytest))\n",
    "    print('time cost',time_end-time_start,'s')\n",
    "    print(' ')\n",
    "    print('-----------------')"
   ]
  },
  {
   "cell_type": "code",
   "execution_count": 15,
   "metadata": {
    "ExecuteTime": {
     "end_time": "2021-02-07T23:53:22.767693Z",
     "start_time": "2021-02-07T23:52:53.990653Z"
    }
   },
   "outputs": [
    {
     "data": {
      "image/png": "[encoded data removed]",
      "text/plain": [
       "<Figure size 432x288 with 1 Axes>"
      ]
     },
     "metadata": {
      "needs_background": "light"
     },
     "output_type": "display_data"
    }
   ],
   "source": [
    "    reg = XGBR(n_estimators=460\n",
    "               ,learning_rate=0.1\n",
    "               , max_depth = 8\n",
    "#                ,subsample= 0.2\n",
    "               ,random_state=420\n",
    "               ,booster=\"gbtree\")\n",
    "plot_learning_curve(reg\n",
    "                    ,\"XGB\",X,Y,ax=None,cv=cv)\n",
    "plt.show()"
   ]
  },
  {
   "cell_type": "code",
   "execution_count": 16,
   "metadata": {
    "ExecuteTime": {
     "end_time": "2021-02-07T23:53:48.109669Z",
     "start_time": "2021-02-07T23:53:42.975122Z"
    }
   },
   "outputs": [
    {
     "name": "stdout",
     "output_type": "stream",
     "text": [
      "MSE:    0.09047825038325101\n",
      "Weight:    [0.08826011 0.04142142 0.09028529 0.09497002 0.05677263 0.06933807\n",
      " 0.09800003 0.08468126 0.12823083 0.24804036]\n"
     ]
    },
    {
     "data": {
      "text/html": [
       "<div>\n",
       "<style scoped>\n",
       "    .dataframe tbody tr th:only-of-type {\n",
       "        vertical-align: middle;\n",
       "    }\n",
       "\n",
       "    .dataframe tbody tr th {\n",
       "        vertical-align: top;\n",
       "    }\n",
       "\n",
       "    .dataframe thead th {\n",
       "        text-align: right;\n",
       "    }\n",
       "</style>\n",
       "<table border=\"1\" class=\"dataframe\">\n",
       "  <thead>\n",
       "    <tr style=\"text-align: right;\">\n",
       "      <th></th>\n",
       "      <th>0</th>\n",
       "    </tr>\n",
       "  </thead>\n",
       "  <tbody>\n",
       "    <tr>\n",
       "      <th>0</th>\n",
       "      <td>0.088260</td>\n",
       "    </tr>\n",
       "    <tr>\n",
       "      <th>1</th>\n",
       "      <td>0.041421</td>\n",
       "    </tr>\n",
       "    <tr>\n",
       "      <th>2</th>\n",
       "      <td>0.090285</td>\n",
       "    </tr>\n",
       "    <tr>\n",
       "      <th>3</th>\n",
       "      <td>0.094970</td>\n",
       "    </tr>\n",
       "    <tr>\n",
       "      <th>4</th>\n",
       "      <td>0.056773</td>\n",
       "    </tr>\n",
       "    <tr>\n",
       "      <th>5</th>\n",
       "      <td>0.069338</td>\n",
       "    </tr>\n",
       "    <tr>\n",
       "      <th>6</th>\n",
       "      <td>0.098000</td>\n",
       "    </tr>\n",
       "    <tr>\n",
       "      <th>7</th>\n",
       "      <td>0.084681</td>\n",
       "    </tr>\n",
       "    <tr>\n",
       "      <th>8</th>\n",
       "      <td>0.128231</td>\n",
       "    </tr>\n",
       "    <tr>\n",
       "      <th>9</th>\n",
       "      <td>0.248040</td>\n",
       "    </tr>\n",
       "  </tbody>\n",
       "</table>\n",
       "</div>"
      ],
      "text/plain": [
       "          0\n",
       "0  0.088260\n",
       "1  0.041421\n",
       "2  0.090285\n",
       "3  0.094970\n",
       "4  0.056773\n",
       "5  0.069338\n",
       "6  0.098000\n",
       "7  0.084681\n",
       "8  0.128231\n",
       "9  0.248040"
      ]
     },
     "execution_count": 16,
     "metadata": {},
     "output_type": "execute_result"
    }
   ],
   "source": [
    "model = reg.fit(Xtrain,Ytrain)\n",
    "print ('MSE:   ' , MSE(Ytest,model.predict(Xtest)))\n",
    "model = reg.fit(X,Y)\n",
    "print('Weight:   ' ,model.feature_importances_)\n",
    "weight = pd.DataFrame(model.feature_importances_)\n",
    "weight = weight.T\n",
    "weight.to_csv('r_weight.csv')"
   ]
  },
  {
   "cell_type": "code",
   "execution_count": 183,
   "metadata": {
    "ExecuteTime": {
     "end_time": "2021-02-07T02:43:36.288071Z",
     "start_time": "2021-02-07T02:43:32.893299Z"
    }
   },
   "outputs": [
    {
     "name": "stdout",
     "output_type": "stream",
     "text": [
      "Developed_Country_Weight:    [0.04063741 0.04881527 0.363915   0.04566506 0.12763803 0.02392168\n",
      " 0.02467412 0.13268223 0.1376285  0.0544227 ]\n",
      "-------------------------------\n",
      "Developing_Country_Weight:    [0.0832224  0.03880161 0.32660085 0.05850908 0.07804319 0.05711244\n",
      " 0.06399927 0.09026483 0.06925271 0.13419355]\n"
     ]
    }
   ],
   "source": [
    "developed = data[data['Developed']==0]\n",
    "developing = data[~(data['Developed']==0)]\n",
    "\n",
    "developed_x = developed.drop(['Score','CPI','Developed'],axis=1)\n",
    "developed_y = developed['Score']\n",
    "\n",
    "developing_x = developing.drop(['Score','CPI','Developed'],axis=1)\n",
    "developing_y = developing['Score']\n",
    "\n",
    "developed_model = reg.fit(developed_x,developed_y)\n",
    "print('Developed_Country_Weight:   ' ,developed_model.feature_importances_)\n",
    "weight = pd.DataFrame(model.feature_importances_)\n",
    "weight = weight.T\n",
    "weight.to_csv('r_weight.csv')\n",
    "print('-------------------------------')\n",
    "developing_model = reg.fit(developing_x,developing_y)\n",
    "print('Developing_Country_Weight:   ' ,developing_model.feature_importances_)"
   ]
  },
  {
   "cell_type": "markdown",
   "metadata": {
    "ExecuteTime": {
     "end_time": "2020-12-20T10:16:56.013484Z",
     "start_time": "2020-12-20T10:16:55.476884Z"
    }
   },
   "source": [
    "<!-- # import matplotlib.pyplot as plt -->\n",
    "fi = model.feature_importances_\n",
    "sorted_idx = np.argsort(fi)[-7:]\n",
    "pos = np.arange(sorted_idx.shape[0]) + .5\n",
    "fig, ax = plt.subplots()\n",
    "ax.barh(pos, fi[sorted_idx], align='center')\n",
    "plt.yticks(pos, np.array(X_test.columns)[sorted_idx])\n",
    "for i, v in enumerate(fi[sorted_idx].tolist()):\n",
    "    ax.text(v,i+.25,str(round(v*100,2))+'%',fontweight='bold')\n",
    "plt.show()"
   ]
  }
 ],
 "metadata": {
  "kernelspec": {
   "display_name": "Python 3",
   "language": "python",
   "name": "python3"
  },
  "language_info": {
   "codemirror_mode": {
    "name": "ipython",
    "version": 3
   },
   "file_extension": ".py",
   "mimetype": "text/x-python",
   "name": "python",
   "nbconvert_exporter": "python",
   "pygments_lexer": "ipython3",
   "version": "3.8.3"
  },
  "toc": {
   "base_numbering": 1,
   "nav_menu": {},
   "number_sections": true,
   "sideBar": true,
   "skip_h1_title": false,
   "title_cell": "Table of Contents",
   "title_sidebar": "Contents",
   "toc_cell": false,
   "toc_position": {},
   "toc_section_display": true,
   "toc_window_display": false
  }
 },
 "nbformat": 4,
 "nbformat_minor": 4
}
