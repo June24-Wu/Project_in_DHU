{
 "cells": [
  {
   "cell_type": "code",
   "execution_count": 2,
   "metadata": {
    "ExecuteTime": {
     "end_time": "2021-02-06T09:22:40.007912Z",
     "start_time": "2021-02-06T09:22:39.698705Z"
    }
   },
   "outputs": [
    {
     "data": {
      "text/html": [
       "<div>\n",
       "<style scoped>\n",
       "    .dataframe tbody tr th:only-of-type {\n",
       "        vertical-align: middle;\n",
       "    }\n",
       "\n",
       "    .dataframe tbody tr th {\n",
       "        vertical-align: top;\n",
       "    }\n",
       "\n",
       "    .dataframe thead th {\n",
       "        text-align: right;\n",
       "    }\n",
       "</style>\n",
       "<table border=\"1\" class=\"dataframe\">\n",
       "  <thead>\n",
       "    <tr style=\"text-align: right;\">\n",
       "      <th></th>\n",
       "      <th></th>\n",
       "      <th>Food price inflation(mid)</th>\n",
       "      <th>Net exports Value(mid)</th>\n",
       "      <th>Consumer Prices, Food Indices (2015 = 100)(mid)</th>\n",
       "      <th>Producer Price Anuual Value(mid)</th>\n",
       "    </tr>\n",
       "    <tr>\n",
       "      <th>Country</th>\n",
       "      <th>Year</th>\n",
       "      <th></th>\n",
       "      <th></th>\n",
       "      <th></th>\n",
       "      <th></th>\n",
       "    </tr>\n",
       "  </thead>\n",
       "  <tbody>\n",
       "    <tr>\n",
       "      <th>Afghanistan</th>\n",
       "      <th>2000</th>\n",
       "      <td>0.086833</td>\n",
       "      <td>-2177409</td>\n",
       "      <td>34.037261</td>\n",
       "      <td>95.370896</td>\n",
       "    </tr>\n",
       "    <tr>\n",
       "      <th>Albania</th>\n",
       "      <th>2000</th>\n",
       "      <td>0.021930</td>\n",
       "      <td>-1844081</td>\n",
       "      <td>63.441535</td>\n",
       "      <td>72.602660</td>\n",
       "    </tr>\n",
       "    <tr>\n",
       "      <th>Algeria</th>\n",
       "      <th>2000</th>\n",
       "      <td>0.013667</td>\n",
       "      <td>662242</td>\n",
       "      <td>51.894808</td>\n",
       "      <td>54.095619</td>\n",
       "    </tr>\n",
       "    <tr>\n",
       "      <th>Angola</th>\n",
       "      <th>2000</th>\n",
       "      <td>1.851949</td>\n",
       "      <td>2592853</td>\n",
       "      <td>1.181357</td>\n",
       "      <td>104.025401</td>\n",
       "    </tr>\n",
       "    <tr>\n",
       "      <th>Antigua and Barbuda</th>\n",
       "      <th>2000</th>\n",
       "      <td>0.025332</td>\n",
       "      <td>-506213</td>\n",
       "      <td>62.588680</td>\n",
       "      <td>57.494706</td>\n",
       "    </tr>\n",
       "  </tbody>\n",
       "</table>\n",
       "</div>"
      ],
      "text/plain": [
       "                          Food price inflation(mid)  Net exports Value(mid)  \\\n",
       "Country             Year                                                      \n",
       "Afghanistan         2000                   0.086833                -2177409   \n",
       "Albania             2000                   0.021930                -1844081   \n",
       "Algeria             2000                   0.013667                  662242   \n",
       "Angola              2000                   1.851949                 2592853   \n",
       "Antigua and Barbuda 2000                   0.025332                 -506213   \n",
       "\n",
       "                          Consumer Prices, Food Indices (2015 = 100)(mid)  \\\n",
       "Country             Year                                                    \n",
       "Afghanistan         2000                                        34.037261   \n",
       "Albania             2000                                        63.441535   \n",
       "Algeria             2000                                        51.894808   \n",
       "Angola              2000                                         1.181357   \n",
       "Antigua and Barbuda 2000                                        62.588680   \n",
       "\n",
       "                          Producer Price Anuual Value(mid)  \n",
       "Country             Year                                    \n",
       "Afghanistan         2000                         95.370896  \n",
       "Albania             2000                         72.602660  \n",
       "Algeria             2000                         54.095619  \n",
       "Angola              2000                        104.025401  \n",
       "Antigua and Barbuda 2000                         57.494706  "
      ]
     },
     "execution_count": 2,
     "metadata": {},
     "output_type": "execute_result"
    }
   ],
   "source": [
    "import pandas as pd  \n",
    "import numpy as np\n",
    "import matplotlib.pyplot as plt  \n",
    "import seaborn as sns\n",
    "df = pd.read_excel('topsis_original.xlsx')\n",
    "df.set_index(['Country','Year'],inplace=True)\n",
    "df.head()"
   ]
  },
  {
   "cell_type": "code",
   "execution_count": 3,
   "metadata": {
    "ExecuteTime": {
     "end_time": "2021-02-06T09:22:45.093137Z",
     "start_time": "2021-02-06T09:22:45.081173Z"
    }
   },
   "outputs": [
    {
     "data": {
      "text/html": [
       "<div>\n",
       "<style scoped>\n",
       "    .dataframe tbody tr th:only-of-type {\n",
       "        vertical-align: middle;\n",
       "    }\n",
       "\n",
       "    .dataframe tbody tr th {\n",
       "        vertical-align: top;\n",
       "    }\n",
       "\n",
       "    .dataframe thead th {\n",
       "        text-align: right;\n",
       "    }\n",
       "</style>\n",
       "<table border=\"1\" class=\"dataframe\">\n",
       "  <thead>\n",
       "    <tr style=\"text-align: right;\">\n",
       "      <th></th>\n",
       "      <th>Food price inflation(mid)</th>\n",
       "      <th>Net exports Value(mid)</th>\n",
       "      <th>Consumer Prices, Food Indices (2015 = 100)(mid)</th>\n",
       "      <th>Producer Price Anuual Value(mid)</th>\n",
       "    </tr>\n",
       "  </thead>\n",
       "  <tbody>\n",
       "    <tr>\n",
       "      <th>Food price inflation(mid)</th>\n",
       "      <td>1.000000</td>\n",
       "      <td>-0.003745</td>\n",
       "      <td>0.966389</td>\n",
       "      <td>-0.052754</td>\n",
       "    </tr>\n",
       "    <tr>\n",
       "      <th>Net exports Value(mid)</th>\n",
       "      <td>-0.003745</td>\n",
       "      <td>1.000000</td>\n",
       "      <td>-0.002595</td>\n",
       "      <td>-0.015865</td>\n",
       "    </tr>\n",
       "    <tr>\n",
       "      <th>Consumer Prices, Food Indices (2015 = 100)(mid)</th>\n",
       "      <td>0.966389</td>\n",
       "      <td>-0.002595</td>\n",
       "      <td>1.000000</td>\n",
       "      <td>-0.043351</td>\n",
       "    </tr>\n",
       "    <tr>\n",
       "      <th>Producer Price Anuual Value(mid)</th>\n",
       "      <td>-0.052754</td>\n",
       "      <td>-0.015865</td>\n",
       "      <td>-0.043351</td>\n",
       "      <td>1.000000</td>\n",
       "    </tr>\n",
       "  </tbody>\n",
       "</table>\n",
       "</div>"
      ],
      "text/plain": [
       "                                                 Food price inflation(mid)  \\\n",
       "Food price inflation(mid)                                         1.000000   \n",
       "Net exports Value(mid)                                           -0.003745   \n",
       "Consumer Prices, Food Indices (2015 = 100)(mid)                   0.966389   \n",
       "Producer Price Anuual Value(mid)                                 -0.052754   \n",
       "\n",
       "                                                 Net exports Value(mid)  \\\n",
       "Food price inflation(mid)                                     -0.003745   \n",
       "Net exports Value(mid)                                         1.000000   \n",
       "Consumer Prices, Food Indices (2015 = 100)(mid)               -0.002595   \n",
       "Producer Price Anuual Value(mid)                              -0.015865   \n",
       "\n",
       "                                                 Consumer Prices, Food Indices (2015 = 100)(mid)  \\\n",
       "Food price inflation(mid)                                                               0.966389   \n",
       "Net exports Value(mid)                                                                 -0.002595   \n",
       "Consumer Prices, Food Indices (2015 = 100)(mid)                                         1.000000   \n",
       "Producer Price Anuual Value(mid)                                                       -0.043351   \n",
       "\n",
       "                                                 Producer Price Anuual Value(mid)  \n",
       "Food price inflation(mid)                                               -0.052754  \n",
       "Net exports Value(mid)                                                  -0.015865  \n",
       "Consumer Prices, Food Indices (2015 = 100)(mid)                         -0.043351  \n",
       "Producer Price Anuual Value(mid)                                         1.000000  "
      ]
     },
     "execution_count": 3,
     "metadata": {},
     "output_type": "execute_result"
    }
   ],
   "source": [
    "df0 = df.corr()\n",
    "df0"
   ]
  },
  {
   "cell_type": "code",
   "execution_count": 4,
   "metadata": {
    "ExecuteTime": {
     "end_time": "2021-02-06T09:22:47.651205Z",
     "start_time": "2021-02-06T09:22:47.310839Z"
    }
   },
   "outputs": [
    {
     "data": {
      "text/plain": [
       "<AxesSubplot:>"
      ]
     },
     "execution_count": 4,
     "metadata": {},
     "output_type": "execute_result"
    },
    {
     "data": {
      "image/png": "[encoded data removed]",
      "text/plain": [
       "<Figure size 432x288 with 2 Axes>"
      ]
     },
     "metadata": {
      "needs_background": "light"
     },
     "output_type": "display_data"
    }
   ],
   "source": [
    "sns.heatmap(df.corr(), annot=True)"
   ]
  }
 ],
 "metadata": {
  "kernelspec": {
   "display_name": "Python 3",
   "language": "python",
   "name": "python3"
  },
  "language_info": {
   "codemirror_mode": {
    "name": "ipython",
    "version": 3
   },
   "file_extension": ".py",
   "mimetype": "text/x-python",
   "name": "python",
   "nbconvert_exporter": "python",
   "pygments_lexer": "ipython3",
   "version": "3.8.3"
  }
 },
 "nbformat": 4,
 "nbformat_minor": 4
}
