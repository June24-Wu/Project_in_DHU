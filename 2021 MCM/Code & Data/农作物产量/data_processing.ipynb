{
 "cells": [
  {
   "cell_type": "code",
   "execution_count": 1,
   "metadata": {
    "ExecuteTime": {
     "end_time": "2021-02-06T00:19:16.010872Z",
     "start_time": "2021-02-06T00:19:15.041931Z"
    }
   },
   "outputs": [
    {
     "data": {
      "text/html": [
       "<div>\n",
       "<style scoped>\n",
       "    .dataframe tbody tr th:only-of-type {\n",
       "        vertical-align: middle;\n",
       "    }\n",
       "\n",
       "    .dataframe tbody tr th {\n",
       "        vertical-align: top;\n",
       "    }\n",
       "\n",
       "    .dataframe thead th {\n",
       "        text-align: right;\n",
       "    }\n",
       "</style>\n",
       "<table border=\"1\" class=\"dataframe\">\n",
       "  <thead>\n",
       "    <tr style=\"text-align: right;\">\n",
       "      <th></th>\n",
       "      <th>Area</th>\n",
       "      <th>Item</th>\n",
       "      <th>Year</th>\n",
       "      <th>Yield(hg/ha)</th>\n",
       "      <th>Area harvested(ha)</th>\n",
       "    </tr>\n",
       "  </thead>\n",
       "  <tbody>\n",
       "    <tr>\n",
       "      <th>0</th>\n",
       "      <td>Afghanistan</td>\n",
       "      <td>Almonds, with shell</td>\n",
       "      <td>2000</td>\n",
       "      <td>17143.0</td>\n",
       "      <td>7000.0</td>\n",
       "    </tr>\n",
       "    <tr>\n",
       "      <th>1</th>\n",
       "      <td>Afghanistan</td>\n",
       "      <td>Almonds, with shell</td>\n",
       "      <td>2001</td>\n",
       "      <td>16667.0</td>\n",
       "      <td>9000.0</td>\n",
       "    </tr>\n",
       "    <tr>\n",
       "      <th>2</th>\n",
       "      <td>Afghanistan</td>\n",
       "      <td>Almonds, with shell</td>\n",
       "      <td>2002</td>\n",
       "      <td>21407.0</td>\n",
       "      <td>5500.0</td>\n",
       "    </tr>\n",
       "    <tr>\n",
       "      <th>3</th>\n",
       "      <td>Afghanistan</td>\n",
       "      <td>Almonds, with shell</td>\n",
       "      <td>2003</td>\n",
       "      <td>24561.0</td>\n",
       "      <td>5700.0</td>\n",
       "    </tr>\n",
       "    <tr>\n",
       "      <th>4</th>\n",
       "      <td>Afghanistan</td>\n",
       "      <td>Almonds, with shell</td>\n",
       "      <td>2004</td>\n",
       "      <td>12250.0</td>\n",
       "      <td>12000.0</td>\n",
       "    </tr>\n",
       "    <tr>\n",
       "      <th>...</th>\n",
       "      <td>...</td>\n",
       "      <td>...</td>\n",
       "      <td>...</td>\n",
       "      <td>...</td>\n",
       "      <td>...</td>\n",
       "    </tr>\n",
       "    <tr>\n",
       "      <th>870835</th>\n",
       "      <td>Net Food Importing Developing Countries</td>\n",
       "      <td>Jojoba seed</td>\n",
       "      <td>2015</td>\n",
       "      <td>NaN</td>\n",
       "      <td>NaN</td>\n",
       "    </tr>\n",
       "    <tr>\n",
       "      <th>870836</th>\n",
       "      <td>Net Food Importing Developing Countries</td>\n",
       "      <td>Jojoba seed</td>\n",
       "      <td>2016</td>\n",
       "      <td>NaN</td>\n",
       "      <td>NaN</td>\n",
       "    </tr>\n",
       "    <tr>\n",
       "      <th>870837</th>\n",
       "      <td>Net Food Importing Developing Countries</td>\n",
       "      <td>Jojoba seed</td>\n",
       "      <td>2017</td>\n",
       "      <td>NaN</td>\n",
       "      <td>NaN</td>\n",
       "    </tr>\n",
       "    <tr>\n",
       "      <th>870838</th>\n",
       "      <td>Net Food Importing Developing Countries</td>\n",
       "      <td>Jojoba seed</td>\n",
       "      <td>2018</td>\n",
       "      <td>NaN</td>\n",
       "      <td>NaN</td>\n",
       "    </tr>\n",
       "    <tr>\n",
       "      <th>870839</th>\n",
       "      <td>Net Food Importing Developing Countries</td>\n",
       "      <td>Jojoba seed</td>\n",
       "      <td>2019</td>\n",
       "      <td>NaN</td>\n",
       "      <td>NaN</td>\n",
       "    </tr>\n",
       "  </tbody>\n",
       "</table>\n",
       "<p>870840 rows × 5 columns</p>\n",
       "</div>"
      ],
      "text/plain": [
       "                                           Area                 Item  Year  \\\n",
       "0                                   Afghanistan  Almonds, with shell  2000   \n",
       "1                                   Afghanistan  Almonds, with shell  2001   \n",
       "2                                   Afghanistan  Almonds, with shell  2002   \n",
       "3                                   Afghanistan  Almonds, with shell  2003   \n",
       "4                                   Afghanistan  Almonds, with shell  2004   \n",
       "...                                         ...                  ...   ...   \n",
       "870835  Net Food Importing Developing Countries          Jojoba seed  2015   \n",
       "870836  Net Food Importing Developing Countries          Jojoba seed  2016   \n",
       "870837  Net Food Importing Developing Countries          Jojoba seed  2017   \n",
       "870838  Net Food Importing Developing Countries          Jojoba seed  2018   \n",
       "870839  Net Food Importing Developing Countries          Jojoba seed  2019   \n",
       "\n",
       "        Yield(hg/ha)  Area harvested(ha)  \n",
       "0            17143.0              7000.0  \n",
       "1            16667.0              9000.0  \n",
       "2            21407.0              5500.0  \n",
       "3            24561.0              5700.0  \n",
       "4            12250.0             12000.0  \n",
       "...              ...                 ...  \n",
       "870835           NaN                 NaN  \n",
       "870836           NaN                 NaN  \n",
       "870837           NaN                 NaN  \n",
       "870838           NaN                 NaN  \n",
       "870839           NaN                 NaN  \n",
       "\n",
       "[870840 rows x 5 columns]"
      ]
     },
     "execution_count": 1,
     "metadata": {},
     "output_type": "execute_result"
    }
   ],
   "source": [
    "import pandas as pd \n",
    "import numpy as np\n",
    "from IPython.display import display\n",
    "data = pd.read_csv('农作物产量.csv',encoding='unicode_escape')\n",
    "data"
   ]
  },
  {
   "cell_type": "code",
   "execution_count": 6,
   "metadata": {
    "ExecuteTime": {
     "end_time": "2021-02-06T00:23:02.826850Z",
     "start_time": "2021-02-06T00:23:02.520565Z"
    }
   },
   "outputs": [],
   "source": [
    "y = data.groupby(['Area','Year']).mean()\n",
    "y.drop('Area harvested(ha)',axis=1,inplace=True)\n",
    "h = data.groupby(['Area','Year']).sum()\n",
    "h.drop('Yield(hg/ha)',axis=1,inplace=True)"
   ]
  },
  {
   "cell_type": "code",
   "execution_count": 10,
   "metadata": {
    "ExecuteTime": {
     "end_time": "2021-02-06T00:24:53.609439Z",
     "start_time": "2021-02-06T00:24:53.470458Z"
    }
   },
   "outputs": [],
   "source": [
    "all_data = pd.concat([y,h],axis=1)\n",
    "all_data.to_csv('农作物产量.csv')"
   ]
  }
 ],
 "metadata": {
  "kernelspec": {
   "display_name": "Python 3",
   "language": "python",
   "name": "python3"
  },
  "language_info": {
   "codemirror_mode": {
    "name": "ipython",
    "version": 3
   },
   "file_extension": ".py",
   "mimetype": "text/x-python",
   "name": "python",
   "nbconvert_exporter": "python",
   "pygments_lexer": "ipython3",
   "version": "3.8.3"
  }
 },
 "nbformat": 4,
 "nbformat_minor": 4
}
